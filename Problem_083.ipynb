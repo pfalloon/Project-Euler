{
 "cells": [
  {
   "cell_type": "markdown",
   "metadata": {},
   "source": [
    "# [Project Euler Problem 83](https://projecteuler.net/problem=83)"
   ]
  },
  {
   "cell_type": "code",
   "execution_count": 12,
   "metadata": {},
   "outputs": [],
   "source": [
    "def read_matrix():\n",
    "    return [[int(d) for d in l.split(',')] for l in open('p083_matrix.txt', 'r').readlines()]"
   ]
  },
  {
   "cell_type": "markdown",
   "metadata": {},
   "source": [
    "Initial pass to generate right+down only paths as in Problem 81:"
   ]
  },
  {
   "cell_type": "code",
   "execution_count": 57,
   "metadata": {},
   "outputs": [
    {
     "data": {
      "text/plain": [
       "427337"
      ]
     },
     "execution_count": 57,
     "metadata": {},
     "output_type": "execute_result"
    }
   ],
   "source": [
    "mat = read_matrix()\n",
    "sm = read_matrix()\n",
    "M = len(mat)\n",
    "\n",
    "# fill in last row/column\n",
    "for j in range(-2,-M-1,-1):\n",
    "    sm[j][-1] += sm[j+1][-1]\n",
    "    sm[-1][j] += sm[-1][j+1]\n",
    "\n",
    "# fill in remaining rows/columns\n",
    "for j in range(-2,-M-1,-1):\n",
    "    sm[j][j] += min(sm[j+1][j], sm[j][j+1])\n",
    "    for k in range(j-1,-M-1,-1):\n",
    "        sm[j][k] += min(sm[j+1][k], sm[j][k+1])\n",
    "        sm[k][j] += min(sm[k+1][j], sm[k][j+1])\n",
    "sm[0][0]"
   ]
  },
  {
   "cell_type": "markdown",
   "metadata": {},
   "source": [
    "Iteratively modify paths to take advantage of any reductions by stepping back/up:"
   ]
  },
  {
   "cell_type": "code",
   "execution_count": 58,
   "metadata": {},
   "outputs": [
    {
     "data": {
      "text/plain": [
       "425185"
      ]
     },
     "execution_count": 58,
     "metadata": {},
     "output_type": "execute_result"
    }
   ],
   "source": [
    "changed = True\n",
    "cnt = 0\n",
    "while changed:\n",
    "    cnt += 1\n",
    "    changed = False\n",
    "    for j in range(M):        \n",
    "        for k in range(M):\n",
    "            adj = sm[j][k]\n",
    "            if j > 0:\n",
    "                adj = min(adj, mat[j][k] + sm[j-1][k])\n",
    "            if j < M-1:\n",
    "                adj = min(adj, mat[j][k] + sm[j+1][k])\n",
    "            if k > 0:\n",
    "                adj = min(adj, mat[j][k] + sm[j][k-1])\n",
    "            if k < M-1:\n",
    "                adj = min(adj, mat[j][k] + sm[j][k+1])\n",
    "            if adj < sm[j][k]:\n",
    "                changed = True\n",
    "                sm[j][k] = adj\n",
    "sm[0][0]"
   ]
  }
 ],
 "metadata": {
  "kernelspec": {
   "display_name": "Python 3",
   "language": "python",
   "name": "python3"
  },
  "language_info": {
   "codemirror_mode": {
    "name": "ipython",
    "version": 3
   },
   "file_extension": ".py",
   "mimetype": "text/x-python",
   "name": "python",
   "nbconvert_exporter": "python",
   "pygments_lexer": "ipython3",
   "version": "3.6.5"
  }
 },
 "nbformat": 4,
 "nbformat_minor": 2
}
