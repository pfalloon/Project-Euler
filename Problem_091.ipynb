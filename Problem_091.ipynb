{
 "cells": [
  {
   "cell_type": "markdown",
   "metadata": {},
   "source": [
    "# [Project Euler Problem 91](https://projecteuler.net/problem=91)"
   ]
  },
  {
   "cell_type": "code",
   "execution_count": 22,
   "metadata": {},
   "outputs": [],
   "source": [
    "def is_right_triangle(v1, v2):\n",
    "    if v1 == v2 or v1 == (0,0) or v2 == (0,0):\n",
    "        return False\n",
    "    x1,y1 = v1\n",
    "    x2,y2 = v2\n",
    "    return x1*x2 + y1*y2 == 0 or x1*(x2-x1) + y1*(y2-y1) == 0 or x2*(x1-x2) + y2*(y1-y2) == 0"
   ]
  },
  {
   "cell_type": "code",
   "execution_count": 23,
   "metadata": {},
   "outputs": [],
   "source": [
    "def count_right_triangles(M):\n",
    "    cnt = 0\n",
    "    for x1 in range(0,M+1):\n",
    "        for y1 in range(0,M+1):\n",
    "            for x2 in range(0,M+1):\n",
    "                for y2 in range(0,M+1):\n",
    "                    if is_right_triangle((x1,y1), (x2,y2)):\n",
    "                        cnt += 1\n",
    "    return cnt // 2"
   ]
  },
  {
   "cell_type": "code",
   "execution_count": 24,
   "metadata": {},
   "outputs": [
    {
     "data": {
      "text/plain": [
       "14"
      ]
     },
     "execution_count": 24,
     "metadata": {},
     "output_type": "execute_result"
    }
   ],
   "source": [
    "count_right_triangles(2)"
   ]
  },
  {
   "cell_type": "code",
   "execution_count": 25,
   "metadata": {},
   "outputs": [
    {
     "data": {
      "text/plain": [
       "14234"
      ]
     },
     "execution_count": 25,
     "metadata": {},
     "output_type": "execute_result"
    }
   ],
   "source": [
    "count_right_triangles(50)"
   ]
  }
 ],
 "metadata": {
  "kernelspec": {
   "display_name": "Python 3",
   "language": "python",
   "name": "python3"
  },
  "language_info": {
   "codemirror_mode": {
    "name": "ipython",
    "version": 3
   },
   "file_extension": ".py",
   "mimetype": "text/x-python",
   "name": "python",
   "nbconvert_exporter": "python",
   "pygments_lexer": "ipython3",
   "version": "3.6.5"
  }
 },
 "nbformat": 4,
 "nbformat_minor": 2
}
