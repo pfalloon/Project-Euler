{
 "cells": [
  {
   "cell_type": "markdown",
   "metadata": {},
   "source": [
    "# [Project Euler Problem 78](https://projecteuler.net/problem=78)"
   ]
  },
  {
   "cell_type": "markdown",
   "metadata": {},
   "source": [
    "This solution makes use of Euler's formula for partitions."
   ]
  },
  {
   "cell_type": "code",
   "execution_count": 29,
   "metadata": {},
   "outputs": [],
   "source": [
    "from math import floor, sqrt\n",
    "def first_divisible(M):\n",
    "    lu = {}\n",
    "    def p(n):\n",
    "        if n in lu: return lu[n]\n",
    "        if n < 0: return 0\n",
    "        if n < 2: return 1\n",
    "        res = sum([(-1)**(k+1)*(p(n-k*(3*k-1)//2) + p(n-k*(3*k+1)//2)) for k in range(1, floor(1+sqrt(1+24*n)/6)+1)]) % M\n",
    "        lu[n] = res\n",
    "        return res\n",
    "    n = 1\n",
    "    while p(n) != 0:\n",
    "        n += 1\n",
    "    return n"
   ]
  },
  {
   "cell_type": "code",
   "execution_count": 34,
   "metadata": {},
   "outputs": [
    {
     "data": {
      "text/plain": [
       "55374"
      ]
     },
     "execution_count": 34,
     "metadata": {},
     "output_type": "execute_result"
    }
   ],
   "source": [
    "first_divisible(1000000)"
   ]
  }
 ],
 "metadata": {
  "kernelspec": {
   "display_name": "Python 3",
   "language": "python",
   "name": "python3"
  },
  "language_info": {
   "codemirror_mode": {
    "name": "ipython",
    "version": 3
   },
   "file_extension": ".py",
   "mimetype": "text/x-python",
   "name": "python",
   "nbconvert_exporter": "python",
   "pygments_lexer": "ipython3",
   "version": "3.6.5"
  }
 },
 "nbformat": 4,
 "nbformat_minor": 2
}
