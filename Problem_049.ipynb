{
 "cells": [
  {
   "cell_type": "markdown",
   "metadata": {},
   "source": [
    "# [Project Euler Problem 49](https://projecteuler.net/problem=49)"
   ]
  },
  {
   "cell_type": "code",
   "execution_count": 8,
   "metadata": {},
   "outputs": [],
   "source": [
    "M = 9999\n",
    "prime_lu = [False]*2 + [True]*(M-1)\n",
    "for n in range(2, M+1):\n",
    "    if prime_lu[n]:\n",
    "        for k in range(2*n, M+1, n):\n",
    "            prime_lu[k] = False"
   ]
  },
  {
   "cell_type": "code",
   "execution_count": 9,
   "metadata": {},
   "outputs": [],
   "source": [
    "primes = [p for p,tf in enumerate(prime_lu) if tf and p >= 1000]"
   ]
  },
  {
   "cell_type": "code",
   "execution_count": 16,
   "metadata": {},
   "outputs": [],
   "source": [
    "lu = {}\n",
    "for p in primes:\n",
    "    s = ''.join(sorted(str(p)))\n",
    "    if s in lu:\n",
    "        lu[s].append(p)\n",
    "    else:\n",
    "        lu[s] = [p]"
   ]
  },
  {
   "cell_type": "code",
   "execution_count": 18,
   "metadata": {},
   "outputs": [],
   "source": [
    "from itertools import combinations"
   ]
  },
  {
   "cell_type": "code",
   "execution_count": 26,
   "metadata": {},
   "outputs": [
    {
     "name": "stdout",
     "output_type": "stream",
     "text": [
      "148748178147\n",
      "296962999629\n"
     ]
    }
   ],
   "source": [
    "for perms in lu.values():\n",
    "    if len(perms) >= 3:\n",
    "        for seq in combinations(perms, 3):\n",
    "            if seq[2]-seq[1] == seq[1]-seq[0]:\n",
    "                print(''.join([str(p) for p in seq]))"
   ]
  }
 ],
 "metadata": {
  "kernelspec": {
   "display_name": "Python 3",
   "language": "python",
   "name": "python3"
  },
  "language_info": {
   "codemirror_mode": {
    "name": "ipython",
    "version": 3
   },
   "file_extension": ".py",
   "mimetype": "text/x-python",
   "name": "python",
   "nbconvert_exporter": "python",
   "pygments_lexer": "ipython3",
   "version": "3.6.5"
  }
 },
 "nbformat": 4,
 "nbformat_minor": 2
}
