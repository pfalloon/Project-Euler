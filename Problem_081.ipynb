{
 "cells": [
  {
   "cell_type": "markdown",
   "metadata": {},
   "source": [
    "# [Project Euler Problem 81](https://projecteuler.net/problem=81)"
   ]
  },
  {
   "cell_type": "code",
   "execution_count": 34,
   "metadata": {},
   "outputs": [
    {
     "data": {
      "text/plain": [
       "427337"
      ]
     },
     "execution_count": 34,
     "metadata": {},
     "output_type": "execute_result"
    }
   ],
   "source": [
    "with open('p081_matrix.txt', 'r') as f:\n",
    "    mat = [[int(d) for d in l.split(',')] for l in f.readlines()]\n",
    "M = len(mat)\n",
    "\n",
    "# fill in last row/column\n",
    "for j in range(-2,-M-1,-1):\n",
    "    mat[j][-1] += mat[j+1][-1]\n",
    "    mat[-1][j] += mat[-1][j+1]\n",
    "\n",
    "# fill in remaining rows/columns\n",
    "for j in range(-2,-M-1,-1):\n",
    "    mat[j][j] += min(mat[j+1][j], mat[j][j+1])\n",
    "    for k in range(j-1,-M-1,-1):\n",
    "        mat[j][k] += min(mat[j+1][k], mat[j][k+1])\n",
    "        mat[k][j] += min(mat[k+1][j], mat[k][j+1])\n",
    "mat[0][0]"
   ]
  }
 ],
 "metadata": {
  "kernelspec": {
   "display_name": "Python 3",
   "language": "python",
   "name": "python3"
  },
  "language_info": {
   "codemirror_mode": {
    "name": "ipython",
    "version": 3
   },
   "file_extension": ".py",
   "mimetype": "text/x-python",
   "name": "python",
   "nbconvert_exporter": "python",
   "pygments_lexer": "ipython3",
   "version": "3.6.5"
  }
 },
 "nbformat": 4,
 "nbformat_minor": 2
}
