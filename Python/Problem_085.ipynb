{
 "cells": [
  {
   "cell_type": "markdown",
   "metadata": {},
   "source": [
    "# [Project Euler Problem 85](https://projecteuler.net/problem=85)"
   ]
  },
  {
   "cell_type": "markdown",
   "metadata": {},
   "source": [
    "The number of rectangles in an $M\\times N$ grid is\n",
    "$$\n",
    "\\sum_{m=1}^M\\sum_{n=1}^N = (M-m+1)(N-n+1)\n",
    "$$\n",
    "where the terms represent sub-rectangles of size $m\\times n$."
   ]
  },
  {
   "cell_type": "code",
   "execution_count": 1,
   "metadata": {},
   "outputs": [],
   "source": [
    "def rect_count(m, n):\n",
    "    return m*(m+1)*n*(n+1)//4"
   ]
  },
  {
   "cell_type": "code",
   "execution_count": 4,
   "metadata": {},
   "outputs": [
    {
     "data": {
      "text/plain": [
       "(77, 36)"
      ]
     },
     "execution_count": 4,
     "metadata": {},
     "output_type": "execute_result"
    }
   ],
   "source": [
    "M = 2*10**6\n",
    "best = None\n",
    "best_diff = M\n",
    "\n",
    "m = 1\n",
    "while True:\n",
    "    n = 1\n",
    "    while n <= m and rect_count(m, n) < M:\n",
    "        n += 1\n",
    "    diff = abs(rect_count(m, n) - M)\n",
    "    if diff < best_diff:\n",
    "        best = (m,n)\n",
    "        best_diff = diff\n",
    "    if n > 1:\n",
    "        diff = abs(rect_count(m, n-1) - M)\n",
    "        if diff < best_diff: \n",
    "            best = (m,n-1)\n",
    "            best_diff = diff\n",
    "    else:\n",
    "        break\n",
    "    m += 1\n",
    "best"
   ]
  },
  {
   "cell_type": "code",
   "execution_count": 5,
   "metadata": {},
   "outputs": [
    {
     "data": {
      "text/plain": [
       "2772"
      ]
     },
     "execution_count": 5,
     "metadata": {},
     "output_type": "execute_result"
    }
   ],
   "source": [
    "best[0]*best[1]"
   ]
  }
 ],
 "metadata": {
  "kernelspec": {
   "display_name": "Python 3",
   "language": "python",
   "name": "python3"
  },
  "language_info": {
   "codemirror_mode": {
    "name": "ipython",
    "version": 3
   },
   "file_extension": ".py",
   "mimetype": "text/x-python",
   "name": "python",
   "nbconvert_exporter": "python",
   "pygments_lexer": "ipython3",
   "version": "3.6.5"
  }
 },
 "nbformat": 4,
 "nbformat_minor": 2
}
