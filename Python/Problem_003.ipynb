{
 "cells": [
  {
   "cell_type": "markdown",
   "metadata": {},
   "source": [
    "# [Project Euler Problem 3](https://projecteuler.net/problem=3)"
   ]
  },
  {
   "cell_type": "code",
   "execution_count": 1,
   "metadata": {},
   "outputs": [],
   "source": [
    "def largest_prime_factor(n):\n",
    "    np = n\n",
    "    for p in range(2, n+1):\n",
    "        while np % p == 0:\n",
    "            np /= p\n",
    "        if np == 1:\n",
    "            break\n",
    "    return p"
   ]
  },
  {
   "cell_type": "code",
   "execution_count": 3,
   "metadata": {},
   "outputs": [
    {
     "name": "stdout",
     "output_type": "stream",
     "text": [
      "2 2\n",
      "3 3\n",
      "4 2\n",
      "5 5\n",
      "6 3\n",
      "7 7\n",
      "8 2\n",
      "9 3\n",
      "10 5\n",
      "11 11\n",
      "12 3\n",
      "13 13\n",
      "14 7\n",
      "15 5\n",
      "16 2\n",
      "17 17\n",
      "18 3\n",
      "19 19\n",
      "20 5\n"
     ]
    }
   ],
   "source": [
    "for n in range(2,21):\n",
    "    print(n, largest_prime_factor(n))"
   ]
  },
  {
   "cell_type": "code",
   "execution_count": 4,
   "metadata": {},
   "outputs": [
    {
     "data": {
      "text/plain": [
       "6857"
      ]
     },
     "execution_count": 4,
     "metadata": {},
     "output_type": "execute_result"
    }
   ],
   "source": [
    "largest_prime_factor(600851475143)"
   ]
  }
 ],
 "metadata": {
  "kernelspec": {
   "display_name": "Python 3",
   "language": "python",
   "name": "python3"
  },
  "language_info": {
   "codemirror_mode": {
    "name": "ipython",
    "version": 3
   },
   "file_extension": ".py",
   "mimetype": "text/x-python",
   "name": "python",
   "nbconvert_exporter": "python",
   "pygments_lexer": "ipython3",
   "version": "3.6.5"
  }
 },
 "nbformat": 4,
 "nbformat_minor": 2
}
