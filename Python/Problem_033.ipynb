{
 "cells": [
  {
   "cell_type": "markdown",
   "metadata": {},
   "source": [
    "# [Project Euler Problem 33](https://projecteuler.net/problem=33)"
   ]
  },
  {
   "cell_type": "code",
   "execution_count": 12,
   "metadata": {},
   "outputs": [
    {
     "data": {
      "text/plain": [
       "100"
      ]
     },
     "execution_count": 12,
     "metadata": {},
     "output_type": "execute_result"
    }
   ],
   "source": [
    "from fractions import Fraction\n",
    "\n",
    "res = 1\n",
    "for a in range(1,10):\n",
    "    for b in range(1,10):\n",
    "        for c in range(1,10):\n",
    "            for d in range(1,10):\n",
    "                num = 10*a + b\n",
    "                den = 10*c + d\n",
    "                if num < den and (a == d or b == c) and Fraction(num, den) == Fraction(a*b, c*d):\n",
    "                    res *= Fraction(num, den)\n",
    "res.denominator"
   ]
  }
 ],
 "metadata": {
  "kernelspec": {
   "display_name": "Python 3",
   "language": "python",
   "name": "python3"
  },
  "language_info": {
   "codemirror_mode": {
    "name": "ipython",
    "version": 3
   },
   "file_extension": ".py",
   "mimetype": "text/x-python",
   "name": "python",
   "nbconvert_exporter": "python",
   "pygments_lexer": "ipython3",
   "version": "3.6.5"
  }
 },
 "nbformat": 4,
 "nbformat_minor": 2
}
