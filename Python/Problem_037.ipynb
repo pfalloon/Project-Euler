{
 "cells": [
  {
   "cell_type": "markdown",
   "metadata": {},
   "source": [
    "# [Project Euler Problem 37](https://projecteuler.net/problem=37)"
   ]
  },
  {
   "cell_type": "code",
   "execution_count": 9,
   "metadata": {},
   "outputs": [],
   "source": [
    "def primes(M):\n",
    "    sieve = 2*[False] + (M-1)*[True]\n",
    "    for n in range(2, M+1):\n",
    "        if sieve[n]:\n",
    "            for k in range(2*n, M+1, n):\n",
    "                sieve[k] = False\n",
    "    return [p for p,tf in enumerate(sieve) if tf]"
   ]
  },
  {
   "cell_type": "code",
   "execution_count": 17,
   "metadata": {},
   "outputs": [],
   "source": [
    "prime_lu = dict.fromkeys([str(p) for p in primes(10**6)])"
   ]
  },
  {
   "cell_type": "code",
   "execution_count": 34,
   "metadata": {},
   "outputs": [],
   "source": [
    "def is_truncatable(p):\n",
    "    for k in range(len(p)):\n",
    "        if p[:k+1] not in prime_lu or p[k:] not in prime_lu:\n",
    "            return False\n",
    "    return True"
   ]
  },
  {
   "cell_type": "code",
   "execution_count": 36,
   "metadata": {},
   "outputs": [
    {
     "data": {
      "text/plain": [
       "True"
      ]
     },
     "execution_count": 36,
     "metadata": {},
     "output_type": "execute_result"
    }
   ],
   "source": [
    "is_truncatable('3797')"
   ]
  },
  {
   "cell_type": "code",
   "execution_count": 41,
   "metadata": {},
   "outputs": [
    {
     "name": "stdout",
     "output_type": "stream",
     "text": [
      "23\n",
      "37\n",
      "53\n",
      "73\n",
      "313\n",
      "317\n",
      "373\n",
      "797\n",
      "3137\n",
      "3797\n",
      "739397\n"
     ]
    },
    {
     "data": {
      "text/plain": [
       "(11, 748317)"
      ]
     },
     "execution_count": 41,
     "metadata": {},
     "output_type": "execute_result"
    }
   ],
   "source": [
    "cnt = tot = 0\n",
    "for p in prime_lu.keys():\n",
    "    if len(p) > 1 and is_truncatable(p):\n",
    "        cnt += 1\n",
    "        tot += int(p)\n",
    "        print(p)\n",
    "        if cnt == 11:\n",
    "            break\n",
    "cnt, tot"
   ]
  }
 ],
 "metadata": {
  "kernelspec": {
   "display_name": "Python 3",
   "language": "python",
   "name": "python3"
  },
  "language_info": {
   "codemirror_mode": {
    "name": "ipython",
    "version": 3
   },
   "file_extension": ".py",
   "mimetype": "text/x-python",
   "name": "python",
   "nbconvert_exporter": "python",
   "pygments_lexer": "ipython3",
   "version": "3.6.5"
  }
 },
 "nbformat": 4,
 "nbformat_minor": 2
}
