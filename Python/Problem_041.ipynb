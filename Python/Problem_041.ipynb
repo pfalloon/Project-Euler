{
 "cells": [
  {
   "cell_type": "markdown",
   "metadata": {},
   "source": [
    "# [Project Euler Problem 41](https://projecteuler.net/problem=41)"
   ]
  },
  {
   "cell_type": "code",
   "execution_count": 23,
   "metadata": {},
   "outputs": [],
   "source": [
    "def perm_to_int(perm):\n",
    "    n = 0\n",
    "    for d in perm:\n",
    "        n = 10*n + d\n",
    "    return n"
   ]
  },
  {
   "cell_type": "code",
   "execution_count": 28,
   "metadata": {},
   "outputs": [],
   "source": [
    "from itertools import permutations\n",
    "def pandigitals(d):\n",
    "    res = [perm_to_int(p) for p in permutations(range(1, d+1))]\n",
    "    res.sort(reverse=True)\n",
    "    return res"
   ]
  },
  {
   "cell_type": "code",
   "execution_count": 29,
   "metadata": {},
   "outputs": [],
   "source": [
    "# to test primality of 9-digit numbers, need primes up to sqrt(10**9)\n",
    "from math import floor, sqrt\n",
    "M = floor(sqrt(10**9))\n",
    "prime_lu = [False]*2 + [True]*(M-1)\n",
    "for n in range(2, M+1):\n",
    "    if prime_lu[n]:\n",
    "        for k in range(2*n, M+1, n):\n",
    "            prime_lu[k] = False\n",
    "primes = [p for p,tf in enumerate(prime_lu) if tf]"
   ]
  },
  {
   "cell_type": "code",
   "execution_count": 31,
   "metadata": {},
   "outputs": [],
   "source": [
    "def is_prime(n):\n",
    "    for d in primes:\n",
    "        if n % d == 0:\n",
    "            return False\n",
    "        if d > n:\n",
    "            return True\n",
    "    return True"
   ]
  },
  {
   "cell_type": "code",
   "execution_count": 35,
   "metadata": {},
   "outputs": [],
   "source": [
    "def find_prime():\n",
    "    for d in range(9, 0, -1):\n",
    "        for n in pandigitals(d):\n",
    "            if is_prime(n):\n",
    "                return(n)\n",
    "    return None"
   ]
  },
  {
   "cell_type": "code",
   "execution_count": 36,
   "metadata": {},
   "outputs": [
    {
     "data": {
      "text/plain": [
       "7652413"
      ]
     },
     "execution_count": 36,
     "metadata": {},
     "output_type": "execute_result"
    }
   ],
   "source": [
    "find_prime()"
   ]
  }
 ],
 "metadata": {
  "kernelspec": {
   "display_name": "Python 3",
   "language": "python",
   "name": "python3"
  },
  "language_info": {
   "codemirror_mode": {
    "name": "ipython",
    "version": 3
   },
   "file_extension": ".py",
   "mimetype": "text/x-python",
   "name": "python",
   "nbconvert_exporter": "python",
   "pygments_lexer": "ipython3",
   "version": "3.6.5"
  }
 },
 "nbformat": 4,
 "nbformat_minor": 2
}
