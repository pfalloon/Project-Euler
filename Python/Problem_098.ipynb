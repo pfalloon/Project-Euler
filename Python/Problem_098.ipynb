{
 "cells": [
  {
   "cell_type": "markdown",
   "metadata": {},
   "source": [
    "# [Project Euler Problem 98](https://projecteuler.net/problem=98)"
   ]
  },
  {
   "cell_type": "code",
   "execution_count": 47,
   "metadata": {},
   "outputs": [],
   "source": [
    "words = [d.replace('\"','') for d in open('p098_words.txt', 'r').read().split(',')]"
   ]
  },
  {
   "cell_type": "code",
   "execution_count": 23,
   "metadata": {},
   "outputs": [],
   "source": [
    "def indexize(a, b):\n",
    "    lu = {}\n",
    "    k = 1\n",
    "    for d in a:\n",
    "        if d not in lu:\n",
    "            lu[d] = k\n",
    "            k += 1\n",
    "    ai = tuple([lu[d] for d in a])\n",
    "    bi = tuple([lu[d] for d in b])\n",
    "    return (ai,bi)"
   ]
  },
  {
   "cell_type": "code",
   "execution_count": 48,
   "metadata": {},
   "outputs": [],
   "source": [
    "word_pairs = {}\n",
    "for w1 in words:\n",
    "    for w2 in words:\n",
    "        if w1 != w2 and len(w1) == len(w2) and sorted(w1) == sorted(w2):\n",
    "            key = indexize(w1, w2)\n",
    "            if key not in word_pairs:\n",
    "                word_pairs[key] = {(w1,w2)}\n",
    "            else:\n",
    "                word_pairs[key].add((w1,w2))"
   ]
  },
  {
   "cell_type": "code",
   "execution_count": 46,
   "metadata": {},
   "outputs": [
    {
     "data": {
      "text/plain": [
       "9"
      ]
     },
     "execution_count": 46,
     "metadata": {},
     "output_type": "execute_result"
    }
   ],
   "source": [
    "max([len(w[0]) for w in word_pairs])"
   ]
  },
  {
   "cell_type": "code",
   "execution_count": 58,
   "metadata": {},
   "outputs": [],
   "source": [
    "from math import ceil, sqrt\n",
    "def square_pairs(M):\n",
    "    lu = {}\n",
    "    for n in range(4, ceil(sqrt(M))+1):\n",
    "        nsq = str(n**2)\n",
    "        key = ''.join(sorted(nsq))\n",
    "        if key not in lu:\n",
    "            lu[key] = {nsq}\n",
    "        else:\n",
    "            lu[key].add(nsq)\n",
    "    res = {}\n",
    "    for key,squares in lu.items():\n",
    "        if len(squares) > 1:\n",
    "            for a in squares:\n",
    "                for b in squares:\n",
    "                    if a != b:\n",
    "                        res[indexize(a,b)] = (a,b)    \n",
    "    return res"
   ]
  },
  {
   "cell_type": "code",
   "execution_count": 59,
   "metadata": {},
   "outputs": [],
   "source": [
    "squares = square_pairs(10**9)"
   ]
  },
  {
   "cell_type": "code",
   "execution_count": 67,
   "metadata": {},
   "outputs": [],
   "source": [
    "res = set()\n",
    "for key in word_pairs:\n",
    "    if key in squares:\n",
    "        res.update([int(d) for d in squares[key]])"
   ]
  },
  {
   "cell_type": "code",
   "execution_count": 68,
   "metadata": {},
   "outputs": [
    {
     "data": {
      "text/plain": [
       "{169,\n",
       " 256,\n",
       " 625,\n",
       " 961,\n",
       " 1296,\n",
       " 1369,\n",
       " 1764,\n",
       " 1936,\n",
       " 2916,\n",
       " 4096,\n",
       " 4761,\n",
       " 9216,\n",
       " 9604,\n",
       " 17689,\n",
       " 18769}"
      ]
     },
     "execution_count": 68,
     "metadata": {},
     "output_type": "execute_result"
    }
   ],
   "source": [
    "res"
   ]
  },
  {
   "cell_type": "code",
   "execution_count": 69,
   "metadata": {},
   "outputs": [
    {
     "data": {
      "text/plain": [
       "18769"
      ]
     },
     "execution_count": 69,
     "metadata": {},
     "output_type": "execute_result"
    }
   ],
   "source": [
    "max(res)"
   ]
  }
 ],
 "metadata": {
  "kernelspec": {
   "display_name": "Python 3",
   "language": "python",
   "name": "python3"
  },
  "language_info": {
   "codemirror_mode": {
    "name": "ipython",
    "version": 3
   },
   "file_extension": ".py",
   "mimetype": "text/x-python",
   "name": "python",
   "nbconvert_exporter": "python",
   "pygments_lexer": "ipython3",
   "version": "3.6.5"
  }
 },
 "nbformat": 4,
 "nbformat_minor": 2
}
