{
 "cells": [
  {
   "cell_type": "markdown",
   "metadata": {},
   "source": [
    "# [Project Euler Problem 86](https://projecteuler.net/problem=86)"
   ]
  },
  {
   "cell_type": "markdown",
   "metadata": {},
   "source": [
    "Generate Pythagorean triples using the same approach as Problem 75, (viz. the [Tree of primitive Pythagorean triples](https://en.wikipedia.org/wiki/Tree_of_primitive_Pythagorean_triples))."
   ]
  },
  {
   "cell_type": "code",
   "execution_count": 30,
   "metadata": {},
   "outputs": [],
   "source": [
    "from math import ceil, sqrt\n",
    "def triples_up_to(M):\n",
    "    c_max = ceil(sqrt(2)*M)\n",
    "    res = set()\n",
    "    def traverse_children(a, b, c):\n",
    "        if c > c_max:\n",
    "            return None\n",
    "        k = 1\n",
    "        while k*a <= M and k*b <= M:\n",
    "            res.add(tuple(sorted([k*a,k*b])))\n",
    "            k += 1\n",
    "        traverse_children(a-2*b+2*c, 2*a-b+2*c, 2*a-2*b+3*c)\n",
    "        traverse_children(a+2*b+2*c, 2*a+b+2*c, 2*a+2*b+3*c)\n",
    "        traverse_children(-a+2*b+2*c, -2*a+b+2*c, -2*a+2*b+3*c)\n",
    "        return None\n",
    "    traverse_children(3,4,5)\n",
    "    return sorted(list(res))"
   ]
  },
  {
   "cell_type": "code",
   "execution_count": 31,
   "metadata": {},
   "outputs": [],
   "source": [
    "triples = triples_up_to(2000)"
   ]
  },
  {
   "cell_type": "code",
   "execution_count": 45,
   "metadata": {},
   "outputs": [],
   "source": [
    "def cuboid_min_sq_diag(a, b, c):\n",
    "    return min((a+b)**2+c**2, (a+c)**2+b**2, a**2+(b+c)**2)"
   ]
  },
  {
   "cell_type": "code",
   "execution_count": 56,
   "metadata": {},
   "outputs": [],
   "source": [
    "def valid_cuboid_counts(M):\n",
    "    triples = triples_up_to(2*M)\n",
    "    counts = {}\n",
    "    for x,y in triples:\n",
    "        hsq = x**2 + y**2\n",
    "        # 1. a+b = x, c = y\n",
    "        c = y\n",
    "        for a in range(1, x//2+1):\n",
    "            b = x - a\n",
    "            if hsq == cuboid_min_sq_diag(a,b,c):\n",
    "                key = max(a,b,c)\n",
    "                if key <= M:\n",
    "                    if key not in counts:\n",
    "                        counts[key] = 0\n",
    "                    counts[key] += 1\n",
    "        # 2. c = x, a+b = y\n",
    "        c = x\n",
    "        for a in range(1, y//2+1):\n",
    "            b = y - a\n",
    "            if hsq == cuboid_min_sq_diag(a,b,c):\n",
    "                key = max(a,b,c)\n",
    "                if key <= M:\n",
    "                    if key not in counts:\n",
    "                        counts[key] = 0\n",
    "                    counts[key] += 1\n",
    "        \n",
    "    return sorted(list(zip(counts.keys(), counts.values())))"
   ]
  },
  {
   "cell_type": "code",
   "execution_count": 60,
   "metadata": {},
   "outputs": [
    {
     "data": {
      "text/plain": [
       "2060"
      ]
     },
     "execution_count": 60,
     "metadata": {},
     "output_type": "execute_result"
    }
   ],
   "source": [
    "sum([c[1] for c in valid_cuboid_counts(100)])"
   ]
  },
  {
   "cell_type": "code",
   "execution_count": 61,
   "metadata": {},
   "outputs": [
    {
     "data": {
      "text/plain": [
       "1818"
      ]
     },
     "execution_count": 61,
     "metadata": {},
     "output_type": "execute_result"
    }
   ],
   "source": [
    "cnt = 0\n",
    "for M,c in valid_cuboid_counts(2000):\n",
    "    cnt += c\n",
    "    if cnt >= 10**6:\n",
    "        break\n",
    "M"
   ]
  }
 ],
 "metadata": {
  "kernelspec": {
   "display_name": "Python 3",
   "language": "python",
   "name": "python3"
  },
  "language_info": {
   "codemirror_mode": {
    "name": "ipython",
    "version": 3
   },
   "file_extension": ".py",
   "mimetype": "text/x-python",
   "name": "python",
   "nbconvert_exporter": "python",
   "pygments_lexer": "ipython3",
   "version": "3.6.5"
  }
 },
 "nbformat": 4,
 "nbformat_minor": 2
}
