{
 "cells": [
  {
   "cell_type": "markdown",
   "metadata": {},
   "source": [
    "# [Project Euler Problem 84](https://projecteuler.net/problem=84)"
   ]
  },
  {
   "cell_type": "markdown",
   "metadata": {},
   "source": [
    "This solution uses a Markov chain approach. The matrix is $120\\times120$: an entry for each square, repeated three times representing the current double count."
   ]
  },
  {
   "cell_type": "code",
   "execution_count": 8,
   "metadata": {},
   "outputs": [],
   "source": [
    "M = 40\n",
    "p_go = 0\n",
    "p_jail = 10\n",
    "p_g2j = 30\n",
    "p_cc1 = 2\n",
    "p_cc2 = 17\n",
    "p_cc3 = 33\n",
    "p_ch1 = 7\n",
    "p_ch2 = 22\n",
    "p_ch3 = 36\n",
    "p_c1 = 11\n",
    "p_e3 = 24\n",
    "p_h2 = 39\n",
    "p_r1 = 5\n",
    "p_r2 = 15\n",
    "p_r3 = 25\n",
    "p_r4 = 35\n",
    "p_u1 = 12\n",
    "p_u2 = 28"
   ]
  },
  {
   "cell_type": "code",
   "execution_count": 9,
   "metadata": {},
   "outputs": [],
   "source": [
    "def p_next_r(p):\n",
    "    if p < p_r1 or p >= p_r4:\n",
    "        return p_r1\n",
    "    if p < p_r2:\n",
    "        return p_r2\n",
    "    if p < p_r3:\n",
    "        return p_r3\n",
    "    return p_r4\n",
    "\n",
    "def p_next_u(p):\n",
    "    if p < p_u1 or p >= p_u2:\n",
    "        return p_u1\n",
    "    return p_u2"
   ]
  },
  {
   "cell_type": "code",
   "execution_count": 101,
   "metadata": {},
   "outputs": [],
   "source": [
    "import numpy as np\n",
    "def transition_matrix(dice_faces):\n",
    "    mat = np.zeros([3*M, 3*M])\n",
    "    for r1 in range(1, dice_faces+1):\n",
    "        for r2 in range(1, dice_faces+1):\n",
    "            roll = r1 + r2\n",
    "            is_double = r1 == r2\n",
    "            for double_count in range(3):\n",
    "                for p in range(M):\n",
    "                    i = M*double_count + p\n",
    "                    if is_double:\n",
    "                        if double_count == 2:\n",
    "                            mat[p_jail,i] += 1\n",
    "                            continue\n",
    "                        else:\n",
    "                            offset = M*(1+double_count)\n",
    "                    else:\n",
    "                        offset = 0\n",
    "                    q = (p + roll) % M\n",
    "                    if q == p_cc1 or q == p_cc2 or q == p_cc3:\n",
    "                        mat[offset + p_go, i] += 1/16\n",
    "                        mat[offset + p_jail, i] += 1/16\n",
    "                        mat[offset + q, i] += 14/16\n",
    "                    elif q == p_ch1 or q == p_ch2 or q == p_ch3:\n",
    "                        mat[offset + p_go, i] += 1/16\n",
    "                        mat[offset + p_jail, i] += 1/16\n",
    "                        mat[offset + p_c1, i] += 1/16\n",
    "                        mat[offset + p_e3, i] += 1/16\n",
    "                        mat[offset + p_h2, i] += 1/16\n",
    "                        mat[offset + p_r1, i] += 1/16\n",
    "                        mat[offset + p_next_r(q), i] += 2/16\n",
    "                        mat[offset + p_next_u(q), i] += 1/16\n",
    "                        mat[offset + (q - 3) % M, i] += 1/16\n",
    "                        mat[offset + q, i] += 6/16\n",
    "                    elif q == p_g2j:\n",
    "                        mat[offset + p_jail, i] += 1\n",
    "                    else:\n",
    "                        mat[offset + q, i] += 1\n",
    "    return mat / np.sum(mat, axis=0)"
   ]
  },
  {
   "cell_type": "code",
   "execution_count": 120,
   "metadata": {},
   "outputs": [],
   "source": [
    "def square_frequencies(dice_faces, eps=0.0001):\n",
    "    mat = transition_matrix(dice_faces)\n",
    "    v1 = np.zeros(3*M)\n",
    "    v2 = np.zeros(3*M)\n",
    "    v2[0] = 1\n",
    "    while np.sum(np.abs(v1-v2)) > eps:\n",
    "        v1 = v2\n",
    "        v2 = mat.dot(v2)\n",
    "    freqs = v2[0:M] + v2[M:2*M] + v2[2*M:]\n",
    "    return sorted(zip(range(M), freqs), key= lambda x: x[1], reverse=True)"
   ]
  },
  {
   "cell_type": "code",
   "execution_count": 117,
   "metadata": {},
   "outputs": [],
   "source": [
    "def answer_string(freqs):\n",
    "    return ''.join(['00' if f[0]==0 else str(f[0]) for f in freqs[:3]])"
   ]
  },
  {
   "cell_type": "code",
   "execution_count": 121,
   "metadata": {},
   "outputs": [
    {
     "name": "stdout",
     "output_type": "stream",
     "text": [
      "[(10, 0.062330040682600445), (24, 0.03183238702092352), (0, 0.03088749568024003)]\n",
      "102400\n"
     ]
    }
   ],
   "source": [
    "freqs = square_frequencies(6)\n",
    "print(freqs[:3])\n",
    "print(answer_string(freqs))"
   ]
  },
  {
   "cell_type": "code",
   "execution_count": 122,
   "metadata": {},
   "outputs": [
    {
     "name": "stdout",
     "output_type": "stream",
     "text": [
      "[(10, 0.07014033570368253), (15, 0.03614888098203577), (24, 0.0328680936657339)]\n",
      "101524\n"
     ]
    }
   ],
   "source": [
    "freqs = square_frequencies(4)\n",
    "print(freqs[:3])\n",
    "print(answer_string(freqs))"
   ]
  }
 ],
 "metadata": {
  "kernelspec": {
   "display_name": "Python 3",
   "language": "python",
   "name": "python3"
  },
  "language_info": {
   "codemirror_mode": {
    "name": "ipython",
    "version": 3
   },
   "file_extension": ".py",
   "mimetype": "text/x-python",
   "name": "python",
   "nbconvert_exporter": "python",
   "pygments_lexer": "ipython3",
   "version": "3.6.5"
  }
 },
 "nbformat": 4,
 "nbformat_minor": 2
}
