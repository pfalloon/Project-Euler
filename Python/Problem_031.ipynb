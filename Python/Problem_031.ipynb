{
 "cells": [
  {
   "cell_type": "markdown",
   "metadata": {},
   "source": [
    "# [Project Euler Problem 31](https://projecteuler.net/problem=31)"
   ]
  },
  {
   "cell_type": "code",
   "execution_count": 23,
   "metadata": {},
   "outputs": [],
   "source": [
    "def coin_combinations(amount, coins):\n",
    "    \"\"\"assumes coins is sorted in ascending order\"\"\"\n",
    "    if amount == 0:\n",
    "        return [[]]\n",
    "    if len(coins) == 0:\n",
    "        return []\n",
    "    if len(coins) == 1:\n",
    "        coin = coins[0]\n",
    "        if amount % coin == 0:\n",
    "            return [(amount // coin)*[coin]]\n",
    "        else:\n",
    "            return []\n",
    "    combs = []\n",
    "    coin = coins[-1]\n",
    "    change = coins[:-1]\n",
    "    for k in range(amount//coin + 1):\n",
    "        combs += [cc + k*[coin] for cc in coin_combinations(amount - k*coin, change)]\n",
    "    return combs"
   ]
  },
  {
   "cell_type": "code",
   "execution_count": 29,
   "metadata": {},
   "outputs": [
    {
     "data": {
      "text/plain": [
       "73682"
      ]
     },
     "execution_count": 29,
     "metadata": {},
     "output_type": "execute_result"
    }
   ],
   "source": [
    "len(coin_combinations(200, [1,2,5,10,20,50,100,200]))"
   ]
  }
 ],
 "metadata": {
  "kernelspec": {
   "display_name": "Python 3",
   "language": "python",
   "name": "python3"
  },
  "language_info": {
   "codemirror_mode": {
    "name": "ipython",
    "version": 3
   },
   "file_extension": ".py",
   "mimetype": "text/x-python",
   "name": "python",
   "nbconvert_exporter": "python",
   "pygments_lexer": "ipython3",
   "version": "3.6.5"
  }
 },
 "nbformat": 4,
 "nbformat_minor": 2
}
