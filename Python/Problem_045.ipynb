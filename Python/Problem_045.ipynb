{
 "cells": [
  {
   "cell_type": "markdown",
   "metadata": {},
   "source": [
    "# [Project Euler Problem 45](https://projecteuler.net/problem=45)"
   ]
  },
  {
   "cell_type": "code",
   "execution_count": 6,
   "metadata": {},
   "outputs": [],
   "source": [
    "M = 10**6\n",
    "tri_vals = [n*(n+1)//2 for n in range(1, M+1)]"
   ]
  },
  {
   "cell_type": "code",
   "execution_count": 7,
   "metadata": {},
   "outputs": [],
   "source": [
    "pent_lu = {}\n",
    "n, p = 0, 0\n",
    "while p < tri_vals[-1]:\n",
    "    n += 1\n",
    "    p = n*(3*n-1)//2\n",
    "    pent_lu[p] = n"
   ]
  },
  {
   "cell_type": "code",
   "execution_count": 8,
   "metadata": {},
   "outputs": [],
   "source": [
    "hex_lu = {}\n",
    "n, h = 0, 0\n",
    "while h < tri_vals[-1]:\n",
    "    n += 1\n",
    "    h = n*(2*n-1)\n",
    "    hex_lu[h] = n"
   ]
  },
  {
   "cell_type": "code",
   "execution_count": 9,
   "metadata": {},
   "outputs": [
    {
     "name": "stdout",
     "output_type": "stream",
     "text": [
      "1\n",
      "40755\n",
      "1533776805\n"
     ]
    }
   ],
   "source": [
    "for n in tri_vals:\n",
    "    if n in pent_lu and n in hex_lu:\n",
    "        print(n)"
   ]
  }
 ],
 "metadata": {
  "kernelspec": {
   "display_name": "Python 3",
   "language": "python",
   "name": "python3"
  },
  "language_info": {
   "codemirror_mode": {
    "name": "ipython",
    "version": 3
   },
   "file_extension": ".py",
   "mimetype": "text/x-python",
   "name": "python",
   "nbconvert_exporter": "python",
   "pygments_lexer": "ipython3",
   "version": "3.6.5"
  }
 },
 "nbformat": 4,
 "nbformat_minor": 2
}
