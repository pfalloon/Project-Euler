{
 "cells": [
  {
   "cell_type": "markdown",
   "metadata": {},
   "source": [
    "# [Project Euler Problem 72](https://projecteuler.net/problem=72)"
   ]
  },
  {
   "cell_type": "code",
   "execution_count": 1,
   "metadata": {},
   "outputs": [],
   "source": [
    "def euler_totient_up_to(M):\n",
    "    \"\"\"returns a list of Euler totient values for n = 0, 1, 2, ..., M\"\"\"\n",
    "    is_prime_lu = [False]*2 + [True]*(M-1)\n",
    "    totient_lu = [1]*(M+1)\n",
    "    for p in range(M+1):\n",
    "        if is_prime_lu[p]:\n",
    "            totient_lu[p] *= p-1\n",
    "            for n in range(2*p, M+1, p):\n",
    "                totient_lu[n] *= p-1\n",
    "                is_prime_lu[n] = False\n",
    "            pk = p**2\n",
    "            while pk <= M:\n",
    "                for n in range(pk, M+1, pk):\n",
    "                    totient_lu[n] *= p\n",
    "                pk *= p\n",
    "    return totient_lu"
   ]
  },
  {
   "cell_type": "code",
   "execution_count": 8,
   "metadata": {},
   "outputs": [
    {
     "data": {
      "text/plain": [
       "303963152391"
      ]
     },
     "execution_count": 8,
     "metadata": {},
     "output_type": "execute_result"
    }
   ],
   "source": [
    "M = 10**6 - 1\n",
    "tot_lu = euler_totient_up_to(M)\n",
    "sum(tot_lu[2:])"
   ]
  }
 ],
 "metadata": {
  "kernelspec": {
   "display_name": "Python 3",
   "language": "python",
   "name": "python3"
  },
  "language_info": {
   "codemirror_mode": {
    "name": "ipython",
    "version": 3
   },
   "file_extension": ".py",
   "mimetype": "text/x-python",
   "name": "python",
   "nbconvert_exporter": "python",
   "pygments_lexer": "ipython3",
   "version": "3.6.5"
  }
 },
 "nbformat": 4,
 "nbformat_minor": 2
}
