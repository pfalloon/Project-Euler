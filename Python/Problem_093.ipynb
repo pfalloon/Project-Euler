{
 "cells": [
  {
   "cell_type": "markdown",
   "metadata": {},
   "source": [
    "# [Project Euler Problem 93](https://projecteuler.net/problem=93)"
   ]
  },
  {
   "cell_type": "code",
   "execution_count": 26,
   "metadata": {},
   "outputs": [],
   "source": [
    "from operator import add, mul, sub, truediv\n",
    "from itertools import combinations, permutations"
   ]
  },
  {
   "cell_type": "markdown",
   "metadata": {},
   "source": [
    "There are 5 different ways of applying parentheses (corresponding to the different possible 4-leaf binary trees). For each function we need a `try` to handle the annoying divide-by-zero situation."
   ]
  },
  {
   "cell_type": "code",
   "execution_count": 17,
   "metadata": {},
   "outputs": [],
   "source": [
    "def comb1(f, g, h, a, b, c, d):\n",
    "    try:\n",
    "        return h(g(f(a, b), c), d)\n",
    "    except:\n",
    "        return 0\n",
    "\n",
    "def comb2(f, g, h, a, b, c, d):\n",
    "    try:\n",
    "        return h(a, g(f(b, c), d))\n",
    "    except:\n",
    "        return 0\n",
    "\n",
    "def comb3(f, g, h, a, b, c, d):\n",
    "    try:\n",
    "        return h(g(a, f(b, c)), d)\n",
    "    except:\n",
    "        return 0\n",
    "\n",
    "def comb4(f, g, h, a, b, c, d):\n",
    "    try:\n",
    "        return h(a, g(b, f(c, d)))\n",
    "    except:\n",
    "        return 0\n",
    "\n",
    "def comb5(f, g, h, a, b, c, d):\n",
    "    try:\n",
    "        return h(f(a, b), g(c, d))\n",
    "    except:\n",
    "        return 0"
   ]
  },
  {
   "cell_type": "code",
   "execution_count": 39,
   "metadata": {},
   "outputs": [],
   "source": [
    "def natural_results(digits):\n",
    "    lu = set()\n",
    "    for f in (add, mul, sub, truediv):\n",
    "        for g in (add, mul, sub, truediv):\n",
    "            for h in (add, mul, sub, truediv):\n",
    "                for (a,b,c,d) in permutations(digits):\n",
    "                    for comb in (comb1, comb2, comb3, comb4, comb5):\n",
    "                        v = comb(f, g, h, a, b, c, d)\n",
    "                        vi = int(v)\n",
    "                        if vi == v and vi > 0:\n",
    "                            lu.add(vi)\n",
    "    return sorted(list(lu))"
   ]
  },
  {
   "cell_type": "code",
   "execution_count": 28,
   "metadata": {},
   "outputs": [],
   "source": [
    "def seq_length(vals):\n",
    "    if vals[0] != 1:\n",
    "        return 0\n",
    "    l = 1\n",
    "    while l < len(vals) and vals[l] == l+1:\n",
    "        l += 1\n",
    "    return l"
   ]
  },
  {
   "cell_type": "code",
   "execution_count": 24,
   "metadata": {},
   "outputs": [
    {
     "data": {
      "text/plain": [
       "28"
      ]
     },
     "execution_count": 24,
     "metadata": {},
     "output_type": "execute_result"
    }
   ],
   "source": [
    "seq_length(natural_results(range(1,5)))"
   ]
  },
  {
   "cell_type": "code",
   "execution_count": 43,
   "metadata": {},
   "outputs": [
    {
     "data": {
      "text/plain": [
       "(51, (1, 2, 5, 8))"
      ]
     },
     "execution_count": 43,
     "metadata": {},
     "output_type": "execute_result"
    }
   ],
   "source": [
    "max_seq = None\n",
    "max_len = 0\n",
    "for seq in combinations(range(10), 4):\n",
    "    l = seq_length(natural_results(seq))\n",
    "    if l > max_len:\n",
    "        max_len = l\n",
    "        max_seq = seq\n",
    "max_len, max_seq"
   ]
  }
 ],
 "metadata": {
  "kernelspec": {
   "display_name": "Python 3",
   "language": "python",
   "name": "python3"
  },
  "language_info": {
   "codemirror_mode": {
    "name": "ipython",
    "version": 3
   },
   "file_extension": ".py",
   "mimetype": "text/x-python",
   "name": "python",
   "nbconvert_exporter": "python",
   "pygments_lexer": "ipython3",
   "version": "3.6.5"
  }
 },
 "nbformat": 4,
 "nbformat_minor": 2
}
