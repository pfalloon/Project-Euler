{
 "cells": [
  {
   "cell_type": "markdown",
   "metadata": {},
   "source": [
    "# [Project Euler Problem 94](https://projecteuler.net/problem=94)"
   ]
  },
  {
   "cell_type": "markdown",
   "metadata": {},
   "source": [
    "My initial Mathematica solution made hard work of this one. The following solution, informed by comments in [the thread](https://projecteuler.net/thread=94) is much more efficient."
   ]
  },
  {
   "cell_type": "markdown",
   "metadata": {},
   "source": [
    "We start with the following observations, assuming an isosceles triangle with base $p$ and sides $q = p\\pm1$:\n",
    "\n",
    "1. The area is given by $A = p h / 2$, where $h$ is the perpendicular height.\n",
    "\n",
    "\n",
    "2. We have that $p$ must be even. To prove this, suppose $p$ were odd. Then $h$ must be even, since $A$ is an integer. But, considering the right half-triangle, $h = \\sqrt{(p\\pm1)^2 - (p/2)^2}$, which cannot even be an integer (much less _be an even integer_) since $p/2$ is not an integer. Thus $A$ cannot be an integer, and we have a contradiction. Hence, $p$ must be even.\n",
    "\n",
    "\n",
    "3. Consider the half triangle with base $a = b/2$, $b = h$, $c = 2a\\pm 1$. We have $b = \\sqrt{c^2 - a^2}$ and hence, since the square roots of integers are either integer or irrational, $b$ must be an integer.\n",
    "\n",
    "\n",
    "4. The problem thus reduces to finding Pythagorean triples of the form $(a,b,2a\\pm1)$. And, since $a$ and $2a\\pm1$ are relatively prime, we only need to consider _primitive_ Pythagorean triples.\n",
    "\n",
    "\n",
    "5. The perimeter is $P = 2a+2c = (c\\mp1)+2c = 3c \\mp 1$ and hence $c = (P\\pm1)/3$."
   ]
  },
  {
   "cell_type": "markdown",
   "metadata": {},
   "source": [
    "NOTE: my initial attempt using recursion ran up against the recursion limit and then (when I increased recursion limit via `sys.setrecursionlimit()`) the C stack size limit, crashing the kernel. Using a `deque` from the `collections` module proved a better approach. "
   ]
  },
  {
   "cell_type": "code",
   "execution_count": 1,
   "metadata": {},
   "outputs": [],
   "source": [
    "def find_triangles_recursive(M):\n",
    "    lu = {}\n",
    "    cmax = (M+1)//3 + 1\n",
    "    def traverse_children(a, b, c):\n",
    "        if c > cmax:\n",
    "            return None\n",
    "        if abs(c-2*a) == 1:\n",
    "            lu[(2*a,c,c)] = 2*a+2*c\n",
    "        if b != a and abs(c-2*b) == 1:\n",
    "            lu[(2*b,c,c)] = 2*b+2*c\n",
    "        traverse_children(a-2*b+2*c, 2*a-b+2*c, 2*a-2*b+3*c)\n",
    "        traverse_children(a+2*b+2*c, 2*a+b+2*c, 2*a+2*b+3*c)\n",
    "        traverse_children(-a+2*b+2*c, -2*a+b+2*c, -2*a+2*b+3*c)\n",
    "        return None\n",
    "    traverse_children(3,4,5)\n",
    "    return lu"
   ]
  },
  {
   "cell_type": "code",
   "execution_count": null,
   "metadata": {},
   "outputs": [],
   "source": [
    "import sys\n",
    "sys.setrecursionlimit(5*10**4)\n",
    "find_triangles(10**9)"
   ]
  },
  {
   "cell_type": "code",
   "execution_count": 11,
   "metadata": {},
   "outputs": [],
   "source": [
    "from collections import deque\n",
    "def find_triangles(M):\n",
    "    cmax = (M+1)//3 + 1\n",
    "    lu = {}\n",
    "    todo = deque()\n",
    "    todo.append((3,4,5))    \n",
    "    while len(todo) > 0:\n",
    "        a,b,c = todo.popleft()\n",
    "        if c > cmax:\n",
    "            continue\n",
    "        if abs(c-2*a) == 1:\n",
    "            lu[(2*a,c,c)] = 2*a+2*c\n",
    "            print(f'found {2*a,c,c}; queue length = {len(todo)}')\n",
    "        if b != a and abs(c-2*b) == 1:\n",
    "            lu[(2*b,c,c)] = 2*b+2*c\n",
    "            print(f'found {2*b,c,c}; queue length = {len(todo)}')\n",
    "        todo.append((a-2*b+2*c, 2*a-b+2*c, 2*a-2*b+3*c))\n",
    "        todo.append((a+2*b+2*c, 2*a+b+2*c, 2*a+2*b+3*c))\n",
    "        todo.append((-a+2*b+2*c, -2*a+b+2*c, -2*a+2*b+3*c))\n",
    "    return lu"
   ]
  },
  {
   "cell_type": "code",
   "execution_count": 18,
   "metadata": {},
   "outputs": [
    {
     "name": "stdout",
     "output_type": "stream",
     "text": [
      "found (6, 5, 5); queue length = 0\n",
      "found (16, 17, 17); queue length = 6\n",
      "found (66, 65, 65); queue length = 20\n",
      "found (240, 241, 241); queue length = 66\n",
      "found (902, 901, 901); queue length = 200\n",
      "found (3360, 3361, 3361); queue length = 606\n",
      "found (12546, 12545, 12545); queue length = 1820\n",
      "found (46816, 46817, 46817); queue length = 5466\n",
      "found (174726, 174725, 174725); queue length = 16400\n",
      "found (652080, 652081, 652081); queue length = 49206\n",
      "found (2433602, 2433601, 2433601); queue length = 147620\n",
      "found (9082320, 9082321, 9082321); queue length = 442581\n",
      "found (33895686, 33895685, 33895685); queue length = 1291568\n",
      "found (126500416, 126500417, 126500417); queue length = 3209046\n"
     ]
    },
    {
     "data": {
      "text/plain": [
       "{(6, 5, 5): 16,\n",
       " (16, 17, 17): 50,\n",
       " (66, 65, 65): 196,\n",
       " (240, 241, 241): 722,\n",
       " (902, 901, 901): 2704,\n",
       " (3360, 3361, 3361): 10082,\n",
       " (12546, 12545, 12545): 37636,\n",
       " (46816, 46817, 46817): 140450,\n",
       " (174726, 174725, 174725): 524176,\n",
       " (652080, 652081, 652081): 1956242,\n",
       " (2433602, 2433601, 2433601): 7300804,\n",
       " (9082320, 9082321, 9082321): 27246962,\n",
       " (33895686, 33895685, 33895685): 101687056,\n",
       " (126500416, 126500417, 126500417): 379501250}"
      ]
     },
     "execution_count": 18,
     "metadata": {},
     "output_type": "execute_result"
    }
   ],
   "source": [
    "triangles = find_triangles(10**9)"
   ]
  },
  {
   "cell_type": "code",
   "execution_count": 20,
   "metadata": {},
   "outputs": [
    {
     "data": {
      "text/plain": [
       "518408346"
      ]
     },
     "execution_count": 20,
     "metadata": {},
     "output_type": "execute_result"
    }
   ],
   "source": [
    "sum(triangles.values())"
   ]
  }
 ],
 "metadata": {
  "kernelspec": {
   "display_name": "Python 3",
   "language": "python",
   "name": "python3"
  },
  "language_info": {
   "codemirror_mode": {
    "name": "ipython",
    "version": 3
   },
   "file_extension": ".py",
   "mimetype": "text/x-python",
   "name": "python",
   "nbconvert_exporter": "python",
   "pygments_lexer": "ipython3",
   "version": "3.6.5"
  }
 },
 "nbformat": 4,
 "nbformat_minor": 2
}
