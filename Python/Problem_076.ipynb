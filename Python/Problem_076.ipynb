{
 "cells": [
  {
   "cell_type": "markdown",
   "metadata": {},
   "source": [
    "# [Project Euler Problem 76](https://projecteuler.net/problem=76)"
   ]
  },
  {
   "cell_type": "code",
   "execution_count": 47,
   "metadata": {},
   "outputs": [],
   "source": [
    "M = 100\n",
    "partitions_lu = [[-1]*(n+1) for n in range(M+1)]\n",
    "\n",
    "def partitions(n, m):\n",
    "    \"\"\"number of partitions of n involving terms up to m\"\"\"\n",
    "    if m > n:\n",
    "        return partitions(n, n)\n",
    "    if m == 1:\n",
    "        return 1\n",
    "    if n == 0:\n",
    "        return 1\n",
    "    if partitions_lu[n][m] >= 0:\n",
    "        return partitions_lu[n][m]\n",
    "\n",
    "    res = sum([partitions(np, m-1) for np in range(n % m, n+1, m)])\n",
    "    partitions_lu[n][m] = res\n",
    "    return res        "
   ]
  },
  {
   "cell_type": "code",
   "execution_count": 59,
   "metadata": {},
   "outputs": [],
   "source": [
    "def sum_count(n):\n",
    "    return partitions(n,n) - 1"
   ]
  },
  {
   "cell_type": "code",
   "execution_count": 60,
   "metadata": {},
   "outputs": [
    {
     "data": {
      "text/plain": [
       "6"
      ]
     },
     "execution_count": 60,
     "metadata": {},
     "output_type": "execute_result"
    }
   ],
   "source": [
    "sum_count(5)"
   ]
  },
  {
   "cell_type": "code",
   "execution_count": 61,
   "metadata": {},
   "outputs": [
    {
     "data": {
      "text/plain": [
       "190569291"
      ]
     },
     "execution_count": 61,
     "metadata": {},
     "output_type": "execute_result"
    }
   ],
   "source": [
    "sum_count(100)"
   ]
  }
 ],
 "metadata": {
  "kernelspec": {
   "display_name": "Python 3",
   "language": "python",
   "name": "python3"
  },
  "language_info": {
   "codemirror_mode": {
    "name": "ipython",
    "version": 3
   },
   "file_extension": ".py",
   "mimetype": "text/x-python",
   "name": "python",
   "nbconvert_exporter": "python",
   "pygments_lexer": "ipython3",
   "version": "3.6.5"
  }
 },
 "nbformat": 4,
 "nbformat_minor": 2
}
