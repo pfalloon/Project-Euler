{
 "cells": [
  {
   "cell_type": "markdown",
   "metadata": {},
   "source": [
    "# [Project Euler Problem 50](https://projecteuler.net/problem=50)"
   ]
  },
  {
   "cell_type": "code",
   "execution_count": 4,
   "metadata": {},
   "outputs": [],
   "source": [
    "M = 10**6\n",
    "prime_lu = [False]*2 + [True]*(M-1)\n",
    "for n in range(2, M+1):\n",
    "    if prime_lu[n]:\n",
    "        for k in range(2*n, M+1, n):\n",
    "            prime_lu[k] = False\n",
    "primes = [p for p,tf in enumerate(prime_lu) if tf]\n",
    "prime_lu = {*primes}"
   ]
  },
  {
   "cell_type": "code",
   "execution_count": 7,
   "metadata": {},
   "outputs": [
    {
     "data": {
      "text/plain": [
       "(543, 997651)"
      ]
     },
     "execution_count": 7,
     "metadata": {},
     "output_type": "execute_result"
    }
   ],
   "source": [
    "l_max, p_max = 0, 0\n",
    "for j in range(len(primes)):\n",
    "    ps = primes[j]\n",
    "    for k in range(j+1, len(primes)):\n",
    "        ps += primes[k]\n",
    "        if ps > M:\n",
    "            break\n",
    "        if ps in prime_lu and k-j+1 > l_max:\n",
    "            l_max, p_max = k-j+1, ps\n",
    "l_max, p_max"
   ]
  }
 ],
 "metadata": {
  "kernelspec": {
   "display_name": "Python 3",
   "language": "python",
   "name": "python3"
  },
  "language_info": {
   "codemirror_mode": {
    "name": "ipython",
    "version": 3
   },
   "file_extension": ".py",
   "mimetype": "text/x-python",
   "name": "python",
   "nbconvert_exporter": "python",
   "pygments_lexer": "ipython3",
   "version": "3.6.5"
  }
 },
 "nbformat": 4,
 "nbformat_minor": 2
}
