{
 "cells": [
  {
   "cell_type": "markdown",
   "metadata": {},
   "source": [
    "# [Project Euler Problem 75](https://projecteuler.net/problem=75)"
   ]
  },
  {
   "cell_type": "markdown",
   "metadata": {},
   "source": [
    "This solution uses the [Tree of primitive Pythagorean triples](https://en.wikipedia.org/wiki/Tree_of_primitive_Pythagorean_triples) and was inspired by the [solution of snq](https://projecteuler.net/thread=75)."
   ]
  },
  {
   "cell_type": "code",
   "execution_count": 29,
   "metadata": {},
   "outputs": [],
   "source": [
    "def triple_counts(L):\n",
    "    cnts = [0]*(L+1)\n",
    "    def traverse_children(a, b, c):\n",
    "        l = a + b + c\n",
    "        if l > L:\n",
    "            return None\n",
    "        for k in range(l, L+1, l):\n",
    "            cnts[k] += 1\n",
    "        traverse_children(a-2*b+2*c, 2*a-b+2*c, 2*a-2*b+3*c)\n",
    "        traverse_children(a+2*b+2*c, 2*a+b+2*c, 2*a+2*b+3*c)\n",
    "        traverse_children(-a+2*b+2*c, -2*a+b+2*c, -2*a+2*b+3*c)\n",
    "        return None\n",
    "    traverse_children(3,4,5)\n",
    "    return {n : c for n,c in enumerate(cnts) if c > 0}"
   ]
  },
  {
   "cell_type": "code",
   "execution_count": 33,
   "metadata": {},
   "outputs": [
    {
     "data": {
      "text/plain": [
       "{12: 1,\n",
       " 24: 1,\n",
       " 30: 1,\n",
       " 36: 1,\n",
       " 40: 1,\n",
       " 48: 1,\n",
       " 56: 1,\n",
       " 60: 2,\n",
       " 70: 1,\n",
       " 72: 1,\n",
       " 80: 1,\n",
       " 84: 2,\n",
       " 90: 2,\n",
       " 96: 1,\n",
       " 108: 1,\n",
       " 112: 1,\n",
       " 120: 3}"
      ]
     },
     "execution_count": 33,
     "metadata": {},
     "output_type": "execute_result"
    }
   ],
   "source": [
    "triple_counts(120)"
   ]
  },
  {
   "cell_type": "code",
   "execution_count": 39,
   "metadata": {},
   "outputs": [
    {
     "data": {
      "text/plain": [
       "161667"
      ]
     },
     "execution_count": 39,
     "metadata": {},
     "output_type": "execute_result"
    }
   ],
   "source": [
    "len([cnt for cnt in triple_counts(1500000).values() if cnt == 1])"
   ]
  }
 ],
 "metadata": {
  "kernelspec": {
   "display_name": "Python 3",
   "language": "python",
   "name": "python3"
  },
  "language_info": {
   "codemirror_mode": {
    "name": "ipython",
    "version": 3
   },
   "file_extension": ".py",
   "mimetype": "text/x-python",
   "name": "python",
   "nbconvert_exporter": "python",
   "pygments_lexer": "ipython3",
   "version": "3.6.5"
  }
 },
 "nbformat": 4,
 "nbformat_minor": 2
}
