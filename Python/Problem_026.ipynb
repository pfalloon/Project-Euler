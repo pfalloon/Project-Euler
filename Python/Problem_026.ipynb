{
 "cells": [
  {
   "cell_type": "markdown",
   "metadata": {},
   "source": [
    "# [Project Euler Problem 26](https://projecteuler.net/problem=26)"
   ]
  },
  {
   "cell_type": "code",
   "execution_count": 5,
   "metadata": {},
   "outputs": [
    {
     "name": "stdout",
     "output_type": "stream",
     "text": [
      "1\n",
      "4\n",
      "2\n",
      "8\n",
      "5\n",
      "7\n",
      "1\n"
     ]
    }
   ],
   "source": [
    "n = 7\n",
    "qr_lu = {}\n",
    "r = 10\n",
    "while True:\n",
    "    q, r = r//n, 10*(r % n)\n",
    "    print(q)\n",
    "    if (q,r) in qr_lu:\n",
    "        break\n",
    "    qr_lu[(q,r)] = True"
   ]
  },
  {
   "cell_type": "code",
   "execution_count": 48,
   "metadata": {},
   "outputs": [],
   "source": [
    "def frac_cycle(d):\n",
    "    digits = []\n",
    "    qr_lu = {}\n",
    "    r = 10\n",
    "    n = 0\n",
    "    while r != 0:\n",
    "        q, r = r // d, 10 * (r % d)\n",
    "        if (q, r) in qr_lu:\n",
    "            break\n",
    "        qr_lu[(q, r)] = n\n",
    "        digits.append(q)\n",
    "        n += 1\n",
    "    if r == 0:\n",
    "        return []\n",
    "    return digits[qr_lu[(q, r)]:]"
   ]
  },
  {
   "cell_type": "code",
   "execution_count": 49,
   "metadata": {},
   "outputs": [
    {
     "data": {
      "text/plain": [
       "(983, 982)"
      ]
     },
     "execution_count": 49,
     "metadata": {},
     "output_type": "execute_result"
    }
   ],
   "source": [
    "d_max = l_max = 0\n",
    "for d in range(2, 1000):\n",
    "    l = len(frac_cycle(d))\n",
    "    if l > l_max: \n",
    "        d_max, l_max = d, l\n",
    "d_max, l_max"
   ]
  }
 ],
 "metadata": {
  "kernelspec": {
   "display_name": "Python 3",
   "language": "python",
   "name": "python3"
  },
  "language_info": {
   "codemirror_mode": {
    "name": "ipython",
    "version": 3
   },
   "file_extension": ".py",
   "mimetype": "text/x-python",
   "name": "python",
   "nbconvert_exporter": "python",
   "pygments_lexer": "ipython3",
   "version": "3.6.5"
  }
 },
 "nbformat": 4,
 "nbformat_minor": 2
}
