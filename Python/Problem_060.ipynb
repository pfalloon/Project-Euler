{
 "cells": [
  {
   "cell_type": "markdown",
   "metadata": {},
   "source": [
    "# [Project Euler Problem 60](https://projecteuler.net/problem=60)"
   ]
  },
  {
   "cell_type": "code",
   "execution_count": 8,
   "metadata": {},
   "outputs": [],
   "source": [
    "from math import ceil, sqrt\n",
    "def is_prime_calc(n):\n",
    "    if n < 8:\n",
    "        return n == 2 or n == 3 or n == 5 or n == 7\n",
    "    elif n % 2 == 0 or n % 3 == 0:\n",
    "        return False\n",
    "    else:\n",
    "        for k in range(6, ceil(sqrt(n))+6, 6):\n",
    "            if n % (k-1) == 0 or n % (k+1) == 0:\n",
    "                return False\n",
    "    return True"
   ]
  },
  {
   "cell_type": "code",
   "execution_count": 13,
   "metadata": {},
   "outputs": [],
   "source": [
    "M = 10**8\n",
    "sieve = [False]*2 + [True]*(M-1)\n",
    "for n in range(2, M+1):\n",
    "    if sieve[n]:\n",
    "        for k in range(2*n, M+1, n):\n",
    "            sieve[k] = False\n",
    "primes = [n for n in range(M+1) if sieve[n]]\n",
    "prime_lu = {*primes}\n",
    "\n",
    "def is_prime(n):\n",
    "    if n <= M:\n",
    "        return n in prime_lu\n",
    "    return is_prime_calc(n)"
   ]
  },
  {
   "cell_type": "code",
   "execution_count": 16,
   "metadata": {},
   "outputs": [
    {
     "name": "stdout",
     "output_type": "stream",
     "text": [
      "p = 1001\n",
      "p = 2001\n",
      "p = 3001\n",
      "p = 4001\n",
      "p = 5001\n",
      "p = 6001\n",
      "p = 7001\n",
      "p = 8001\n",
      "new min: 13 + 5197 + 5701 + 6733 + 8389 = 26033\n",
      "p = 9001\n",
      "p = 10001\n",
      "p = 11001\n",
      "p = 12001\n",
      "p = 13001\n",
      "p = 14001\n",
      "p = 15001\n",
      "p = 16001\n",
      "p = 17001\n",
      "p = 18001\n",
      "p = 19001\n",
      "p = 20001\n",
      "p = 21001\n",
      "p = 22001\n",
      "p = 23001\n",
      "p = 24001\n",
      "p = 25001\n",
      "p = 26001\n"
     ]
    },
    {
     "data": {
      "text/plain": [
       "26033"
      ]
     },
     "execution_count": 16,
     "metadata": {},
     "output_type": "execute_result"
    }
   ],
   "source": [
    "comm_lu = {}\n",
    "p = 3\n",
    "psum_min = 10**9\n",
    "while True:\n",
    "    if is_prime(p):\n",
    "        ps = str(p)\n",
    "        commuting = []\n",
    "        for qs in comm_lu:\n",
    "            pq, qp = int(ps+qs), int(qs+ps)\n",
    "            if is_prime(min(pq, qp)) and is_prime(max(pq, qp)):\n",
    "                comm_lu[qs].add(ps)\n",
    "                commuting.append(qs)\n",
    "        comm_lu[ps] = set(commuting)\n",
    "        nc = len(commuting)\n",
    "        for k1 in range(nc-3):\n",
    "            qs1 = commuting[k1]\n",
    "            q1 = int(qs1)\n",
    "            if p + 4*q1 >= psum_min:\n",
    "                continue\n",
    "            comm1 = comm_lu[qs1].intersection(commuting[k1+1:])\n",
    "            for k2 in range(k1+1, nc-2):\n",
    "                qs2 = commuting[k2]\n",
    "                if qs2 not in comm1:\n",
    "                    continue\n",
    "                q2 = int(qs2)\n",
    "                if p + q1 + 3*q2 >= psum_min:\n",
    "                    continue\n",
    "                comm2 = comm_lu[qs2].intersection(comm1)\n",
    "                for k3 in range(k2+1, nc-1):\n",
    "                    qs3 = commuting[k3]\n",
    "                    if qs3 not in comm2:\n",
    "                        continue\n",
    "                    q3 = int(qs3)\n",
    "                    if p + q1 + q2 + 2*q3 >= psum_min:\n",
    "                        continue\n",
    "                    comm3 = comm_lu[qs3].intersection(comm2)\n",
    "                    for k4 in range(k3+1, nc):\n",
    "                        qs4 = commuting[k4]\n",
    "                        if qs4 not in comm3:\n",
    "                            continue\n",
    "                        q4 = int(qs4)\n",
    "                        psum = p + q1 + q2 + q3 + q4\n",
    "                        if psum < psum_min:\n",
    "                            print(f'new min: {q1} + {q2} + {q3} + {q4} + {p} = {psum}')\n",
    "                            psum_min = psum\n",
    "    p += 2\n",
    "    if p > psum_min:\n",
    "        break\n",
    "    if p % 1000 == 1:\n",
    "        print(f'p = {p}')\n",
    "psum_min"
   ]
  }
 ],
 "metadata": {
  "kernelspec": {
   "display_name": "Python 3",
   "language": "python",
   "name": "python3"
  },
  "language_info": {
   "codemirror_mode": {
    "name": "ipython",
    "version": 3
   },
   "file_extension": ".py",
   "mimetype": "text/x-python",
   "name": "python",
   "nbconvert_exporter": "python",
   "pygments_lexer": "ipython3",
   "version": "3.6.5"
  }
 },
 "nbformat": 4,
 "nbformat_minor": 2
}
