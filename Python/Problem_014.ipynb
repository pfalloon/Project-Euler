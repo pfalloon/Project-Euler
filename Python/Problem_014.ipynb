{
 "cells": [
  {
   "cell_type": "markdown",
   "metadata": {},
   "source": [
    "# [Project Euler Problem 14](https://projecteuler.net/problem=14)"
   ]
  },
  {
   "cell_type": "code",
   "execution_count": 5,
   "metadata": {},
   "outputs": [],
   "source": [
    "def collatz_terms(n):\n",
    "    np = n\n",
    "    cnt = 1\n",
    "    while np > 1:\n",
    "        if np % 2 == 0:\n",
    "            np = np//2\n",
    "        else:\n",
    "            np = 3*np+1\n",
    "        cnt += 1\n",
    "    return cnt"
   ]
  },
  {
   "cell_type": "code",
   "execution_count": 11,
   "metadata": {},
   "outputs": [
    {
     "data": {
      "text/plain": [
       "153"
      ]
     },
     "execution_count": 11,
     "metadata": {},
     "output_type": "execute_result"
    }
   ],
   "source": [
    "collatz_terms(1000000)"
   ]
  },
  {
   "cell_type": "code",
   "execution_count": 18,
   "metadata": {},
   "outputs": [
    {
     "data": {
      "text/plain": [
       "(837799, 525)"
      ]
     },
     "execution_count": 18,
     "metadata": {},
     "output_type": "execute_result"
    }
   ],
   "source": [
    "M = 1000000\n",
    "terms_max = 0\n",
    "n_max = -1\n",
    "for n in range(1,M):\n",
    "    ct = collatz_terms(n)\n",
    "    if ct > terms_max:\n",
    "        terms_max = ct\n",
    "        n_max = n\n",
    "(n_max, terms_max)"
   ]
  }
 ],
 "metadata": {
  "kernelspec": {
   "display_name": "Python 3",
   "language": "python",
   "name": "python3"
  },
  "language_info": {
   "codemirror_mode": {
    "name": "ipython",
    "version": 3
   },
   "file_extension": ".py",
   "mimetype": "text/x-python",
   "name": "python",
   "nbconvert_exporter": "python",
   "pygments_lexer": "ipython3",
   "version": "3.6.5"
  }
 },
 "nbformat": 4,
 "nbformat_minor": 2
}
