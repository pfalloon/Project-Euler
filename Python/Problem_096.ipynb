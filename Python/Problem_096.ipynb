{
 "cells": [
  {
   "cell_type": "markdown",
   "metadata": {},
   "source": [
    "# [Project Euler Problem 96](https://projecteuler.net/problem=96)"
   ]
  },
  {
   "cell_type": "code",
   "execution_count": 11,
   "metadata": {},
   "outputs": [],
   "source": [
    "with open('p096_sudoku.txt', 'r') as f:\n",
    "    dat = f.read().split('\\n')\n",
    "M = len(dat)//10"
   ]
  },
  {
   "cell_type": "code",
   "execution_count": 24,
   "metadata": {},
   "outputs": [],
   "source": [
    "puzzles = [[[int(d) for d in row] for row in dat[10*n+1:10*(n+1)]] for n in range(M)]"
   ]
  },
  {
   "cell_type": "code",
   "execution_count": 84,
   "metadata": {},
   "outputs": [],
   "source": [
    "def row_values(puzzle):\n",
    "    return [{d for d in row if d > 0} for row in puzzle]\n",
    "\n",
    "def column_values(puzzle):\n",
    "    return [{puzzle[j][k] for j in range(9) if puzzle[j][k] > 0} for k in range(9)]\n",
    "\n",
    "def block_values(puzzle):\n",
    "    res = [[0, 0, 0], [0, 0, 0], [0, 0, 0]]\n",
    "    for j in range(3):\n",
    "        for k in range(3):\n",
    "            res[j][k] = set()\n",
    "            for p in range(3):\n",
    "                for q in range(3):\n",
    "                    v = puzzle[3*j+p][3*k+q]\n",
    "                    if v > 0:\n",
    "                        res[j][k].add(v)\n",
    "    return res"
   ]
  },
  {
   "cell_type": "code",
   "execution_count": 96,
   "metadata": {},
   "outputs": [],
   "source": [
    "def elimination_solve(puzzle):\n",
    "    vals = {1,2,3,4,5,6,7,8,9}\n",
    "    sol = [row.copy() for row in puzzle]\n",
    "    row_vals = row_values(puzzle)\n",
    "    col_vals = column_values(puzzle)\n",
    "    blk_vals = block_values(puzzle)\n",
    "    changed = True\n",
    "    while changed == True:\n",
    "        changed = False\n",
    "        for j in range(9):\n",
    "            for k in range(9):\n",
    "                if sol[j][k] == 0:\n",
    "                    bj, bk = j//3, k//3\n",
    "                    poss_vals = vals.difference(row_vals[j], col_vals[k], blk_vals[bj][bk])\n",
    "                    if len(poss_vals) == 0:\n",
    "                        return None\n",
    "                    elif len(poss_vals) == 1:\n",
    "                        val = next(iter(poss_vals))\n",
    "                        sol[j][k] = val\n",
    "                        row_vals[j].add(val)\n",
    "                        col_vals[k].add(val)\n",
    "                        blk_vals[bj][bk].add(val)\n",
    "                        changed = True\n",
    "    return sol"
   ]
  },
  {
   "cell_type": "code",
   "execution_count": 97,
   "metadata": {},
   "outputs": [
    {
     "data": {
      "text/plain": [
       "[[4, 8, 3, 9, 2, 1, 6, 5, 7],\n",
       " [9, 6, 7, 3, 4, 5, 8, 2, 1],\n",
       " [2, 5, 1, 8, 7, 6, 4, 9, 3],\n",
       " [5, 4, 8, 1, 3, 2, 9, 7, 6],\n",
       " [7, 2, 9, 5, 6, 4, 1, 3, 8],\n",
       " [1, 3, 6, 7, 9, 8, 2, 4, 5],\n",
       " [3, 7, 2, 6, 8, 9, 5, 1, 4],\n",
       " [8, 1, 4, 2, 5, 3, 7, 6, 9],\n",
       " [6, 9, 5, 4, 1, 7, 3, 8, 2]]"
      ]
     },
     "execution_count": 97,
     "metadata": {},
     "output_type": "execute_result"
    }
   ],
   "source": [
    "elimination_solve(puzzles[0])"
   ]
  },
  {
   "cell_type": "code",
   "execution_count": 88,
   "metadata": {},
   "outputs": [],
   "source": [
    "def is_solved(puzzle):\n",
    "    for row in puzzle:\n",
    "        for v in row:\n",
    "            if v == 0:\n",
    "                return False\n",
    "    return True"
   ]
  },
  {
   "cell_type": "code",
   "execution_count": 91,
   "metadata": {},
   "outputs": [],
   "source": [
    "def pos_first_unsolved(puzzle):\n",
    "    for j in range(9):\n",
    "        for k in range(9):\n",
    "            if puzzle[j][k] == 0:\n",
    "                return (j,k)\n",
    "    return True"
   ]
  },
  {
   "cell_type": "code",
   "execution_count": 105,
   "metadata": {},
   "outputs": [],
   "source": [
    "def possible_values(puzzle, j, k):\n",
    "    if puzzle[j][k] != 0:\n",
    "        return None\n",
    "    used = set()\n",
    "    for i in range(9):\n",
    "        v = puzzle[j][i]\n",
    "        if v != 0:\n",
    "            used.add(v)\n",
    "        v = puzzle[i][k]\n",
    "        if v != 0:\n",
    "            used.add(v)\n",
    "    bj,bk = j//3,k//3\n",
    "    for p in range(3):\n",
    "        for q in range(3):\n",
    "            v = puzzle[3*bj+p][3*bk+q]\n",
    "            if v != 0:\n",
    "                used.add(v)\n",
    "    return {1,2,3,4,5,6,7,8,9}.difference(used)"
   ]
  },
  {
   "cell_type": "code",
   "execution_count": 110,
   "metadata": {},
   "outputs": [],
   "source": [
    "def substitution_solve(puzzle):\n",
    "    sol = elimination_solve(puzzle)\n",
    "    if sol is None or is_solved(sol):\n",
    "        return sol\n",
    "    j,k = pos_first_unsolved(sol)\n",
    "    for v in possible_values(sol, j, k):\n",
    "        sol[j][k] = v\n",
    "        res = substitution_solve(sol)\n",
    "        if res:\n",
    "            return res\n",
    "    return None"
   ]
  },
  {
   "cell_type": "code",
   "execution_count": 114,
   "metadata": {},
   "outputs": [],
   "source": [
    "solutions = [substitution_solve(puzzle) for puzzle in puzzles]"
   ]
  },
  {
   "cell_type": "code",
   "execution_count": 115,
   "metadata": {},
   "outputs": [
    {
     "data": {
      "text/plain": [
       "24702"
      ]
     },
     "execution_count": 115,
     "metadata": {},
     "output_type": "execute_result"
    }
   ],
   "source": [
    "res = 0\n",
    "for sol in solutions:\n",
    "    res += 100*sol[0][0] + 10*sol[0][1] + sol[0][2]\n",
    "res"
   ]
  }
 ],
 "metadata": {
  "kernelspec": {
   "display_name": "Python 3",
   "language": "python",
   "name": "python3"
  },
  "language_info": {
   "codemirror_mode": {
    "name": "ipython",
    "version": 3
   },
   "file_extension": ".py",
   "mimetype": "text/x-python",
   "name": "python",
   "nbconvert_exporter": "python",
   "pygments_lexer": "ipython3",
   "version": "3.6.5"
  }
 },
 "nbformat": 4,
 "nbformat_minor": 2
}
