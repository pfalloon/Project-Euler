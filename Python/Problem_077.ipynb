{
 "cells": [
  {
   "cell_type": "markdown",
   "metadata": {},
   "source": [
    "# [Project Euler Problem 77](https://projecteuler.net/problem=77)"
   ]
  },
  {
   "cell_type": "code",
   "execution_count": 1,
   "metadata": {},
   "outputs": [],
   "source": [
    "M = 1000\n",
    "sieve = [False]*2 + [True]*(M-1)\n",
    "for n in range(2, M+1):\n",
    "    if sieve[n]:\n",
    "        for k in range(2*n, M+1, n):\n",
    "            sieve[k] = False\n",
    "primes = [p for p,tf in enumerate(sieve) if tf]"
   ]
  },
  {
   "cell_type": "code",
   "execution_count": 19,
   "metadata": {},
   "outputs": [],
   "source": [
    "def prime_partitions(n, k):\n",
    "    if n == 0:\n",
    "        return 1\n",
    "    pk = primes[k]\n",
    "    if k == 0:\n",
    "        if n % pk == 0:\n",
    "            return 1\n",
    "        else:\n",
    "            return 0\n",
    "    if pk > n:\n",
    "        return prime_partitions(n, k-1)\n",
    "    return sum([prime_partitions(j, k-1) for j in range(n % pk, n+1, pk)])"
   ]
  },
  {
   "cell_type": "code",
   "execution_count": 32,
   "metadata": {},
   "outputs": [
    {
     "data": {
      "text/plain": [
       "(71, 5007)"
      ]
     },
     "execution_count": 32,
     "metadata": {},
     "output_type": "execute_result"
    }
   ],
   "source": [
    "for n in range(100):\n",
    "    pp = prime_partitions(n,n)\n",
    "    if pp > 5000:\n",
    "        break\n",
    "n,pp"
   ]
  }
 ],
 "metadata": {
  "kernelspec": {
   "display_name": "Python 3",
   "language": "python",
   "name": "python3"
  },
  "language_info": {
   "codemirror_mode": {
    "name": "ipython",
    "version": 3
   },
   "file_extension": ".py",
   "mimetype": "text/x-python",
   "name": "python",
   "nbconvert_exporter": "python",
   "pygments_lexer": "ipython3",
   "version": "3.6.5"
  }
 },
 "nbformat": 4,
 "nbformat_minor": 2
}
