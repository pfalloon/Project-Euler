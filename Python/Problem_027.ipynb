{
 "cells": [
  {
   "cell_type": "markdown",
   "metadata": {},
   "source": [
    "# [Project Euler Problem 27](https://projecteuler.net/problem=27)"
   ]
  },
  {
   "cell_type": "code",
   "execution_count": 50,
   "metadata": {},
   "outputs": [],
   "source": [
    "def get_prime_lu(M):\n",
    "    sieve = [True]*(M+1)\n",
    "    sieve[0] = sieve[1] = False\n",
    "    for n in range(2, M+1):\n",
    "        if sieve[n]:\n",
    "            for k in range(2*n, M+1, n):\n",
    "                sieve[k] = False\n",
    "    return sieve"
   ]
  },
  {
   "cell_type": "code",
   "execution_count": 51,
   "metadata": {},
   "outputs": [],
   "source": [
    "M = int(1e6)\n",
    "prime_lu = get_prime_lu(M)\n",
    "prime_list = [p for p,tf in enumerate(prime_lu) if tf]"
   ]
  },
  {
   "cell_type": "code",
   "execution_count": 52,
   "metadata": {},
   "outputs": [],
   "source": [
    "def is_prime(n):\n",
    "    if n > len(prime_lu):\n",
    "        raise ValueError('requested value ' + str(n) + ' is outside range of prime lookup table')\n",
    "    return prime_lu[n]"
   ]
  },
  {
   "cell_type": "code",
   "execution_count": 53,
   "metadata": {},
   "outputs": [],
   "source": [
    "def prime(n):\n",
    "    if n > len(prime_list) or n < 1:\n",
    "        raise ValueError('requested index ' + str(n) + ' is outside range of prime list')\n",
    "    return prime_list[n-1]"
   ]
  },
  {
   "cell_type": "code",
   "execution_count": 54,
   "metadata": {},
   "outputs": [],
   "source": [
    "def prime_run_len(a, b):\n",
    "    if not is_prime(b):\n",
    "        return 0\n",
    "    if not is_prime(a+b+1):\n",
    "        return 1\n",
    "    l = 1\n",
    "    n = 2\n",
    "    while True:\n",
    "        val = n**2 + a*n + b\n",
    "        if not is_prime(val):\n",
    "            break\n",
    "        n += 1\n",
    "    return n"
   ]
  },
  {
   "cell_type": "code",
   "execution_count": 57,
   "metadata": {},
   "outputs": [
    {
     "data": {
      "text/plain": [
       "40"
      ]
     },
     "execution_count": 57,
     "metadata": {},
     "output_type": "execute_result"
    }
   ],
   "source": [
    "prime_run_len(1, 41)"
   ]
  },
  {
   "cell_type": "code",
   "execution_count": 58,
   "metadata": {},
   "outputs": [
    {
     "data": {
      "text/plain": [
       "80"
      ]
     },
     "execution_count": 58,
     "metadata": {},
     "output_type": "execute_result"
    }
   ],
   "source": [
    "prime_run_len(-79, 1601)"
   ]
  },
  {
   "cell_type": "code",
   "execution_count": 59,
   "metadata": {},
   "outputs": [
    {
     "data": {
      "text/plain": [
       "(-61, 971, 71)"
      ]
     },
     "execution_count": 59,
     "metadata": {},
     "output_type": "execute_result"
    }
   ],
   "source": [
    "N = 1000\n",
    "a_max = b_max = l_max = -1\n",
    "for a_abs in range(N):\n",
    "    for a_sgn in (-1,1):\n",
    "        for b_abs in range(N):\n",
    "            for b_sgn in (-1,1):\n",
    "                a, b = a_abs*a_sgn, b_abs*b_sgn\n",
    "                l = prime_run_len(a,b)\n",
    "                if l > l_max:\n",
    "                    a_max, b_max, l_max = a, b, l\n",
    "a_max, b_max, l_max"
   ]
  },
  {
   "cell_type": "code",
   "execution_count": 60,
   "metadata": {},
   "outputs": [
    {
     "data": {
      "text/plain": [
       "-59231"
      ]
     },
     "execution_count": 60,
     "metadata": {},
     "output_type": "execute_result"
    }
   ],
   "source": [
    "a_max*b_max"
   ]
  }
 ],
 "metadata": {
  "kernelspec": {
   "display_name": "Python 3",
   "language": "python",
   "name": "python3"
  },
  "language_info": {
   "codemirror_mode": {
    "name": "ipython",
    "version": 3
   },
   "file_extension": ".py",
   "mimetype": "text/x-python",
   "name": "python",
   "nbconvert_exporter": "python",
   "pygments_lexer": "ipython3",
   "version": "3.6.5"
  }
 },
 "nbformat": 4,
 "nbformat_minor": 2
}
