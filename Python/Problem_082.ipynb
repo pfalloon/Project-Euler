{
 "cells": [
  {
   "cell_type": "markdown",
   "metadata": {},
   "source": [
    "# [Project Euler Problem 82](https://projecteuler.net/problem=82)"
   ]
  },
  {
   "cell_type": "code",
   "execution_count": 27,
   "metadata": {},
   "outputs": [],
   "source": [
    "def read_matrix():\n",
    "    return [[int(d) for d in l.split(',')] for l in open('p082_matrix.txt', 'r').readlines()]"
   ]
  },
  {
   "cell_type": "code",
   "execution_count": 28,
   "metadata": {},
   "outputs": [
    {
     "data": {
      "text/plain": [
       "260324"
      ]
     },
     "execution_count": 28,
     "metadata": {},
     "output_type": "execute_result"
    }
   ],
   "source": [
    "mat = read_matrix()\n",
    "sm = read_matrix()\n",
    "M = len(mat)\n",
    "\n",
    "for k in range(-2, -M-1, -1):\n",
    "    sm[-1][k] += sm[-1][k+1]\n",
    "    for j in range(-2, -M-1, -1):\n",
    "        sm[j][k] += min(sm[j+1][k], sm[j][k+1])\n",
    "    for j in range(1, M):\n",
    "        sm[j][k] = min(sm[j][k], mat[j][k] + sm[j-1][k])\n",
    "min([r[0] for r in sm])"
   ]
  }
 ],
 "metadata": {
  "kernelspec": {
   "display_name": "Python 3",
   "language": "python",
   "name": "python3"
  },
  "language_info": {
   "codemirror_mode": {
    "name": "ipython",
    "version": 3
   },
   "file_extension": ".py",
   "mimetype": "text/x-python",
   "name": "python",
   "nbconvert_exporter": "python",
   "pygments_lexer": "ipython3",
   "version": "3.6.5"
  }
 },
 "nbformat": 4,
 "nbformat_minor": 2
}
