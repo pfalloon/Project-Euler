{
 "cells": [
  {
   "cell_type": "markdown",
   "metadata": {},
   "source": [
    "# [Project Euler Problem 7](https://projecteuler.net/problem=7)"
   ]
  },
  {
   "cell_type": "code",
   "execution_count": 17,
   "metadata": {},
   "outputs": [
    {
     "data": {
      "text/plain": [
       "(10001, 104743)"
      ]
     },
     "execution_count": 17,
     "metadata": {},
     "output_type": "execute_result"
    }
   ],
   "source": [
    "n_primes = 10001\n",
    "n_sieve = 200000\n",
    "primes = [0]*n_primes\n",
    "sieve = list(range(n_sieve+1))\n",
    "sieve[1] = 0 # 1 is a special case\n",
    "p = 0\n",
    "for n in range(n_sieve):\n",
    "    if sieve[n] != 0:\n",
    "        primes[p] = n\n",
    "        p += 1\n",
    "        for k in range(n, n_sieve+1, n):\n",
    "            sieve[k] = 0\n",
    "    if p == n_primes:\n",
    "        break\n",
    "(p, primes[p-1])"
   ]
  },
  {
   "cell_type": "code",
   "execution_count": null,
   "metadata": {},
   "outputs": [],
   "source": []
  }
 ],
 "metadata": {
  "kernelspec": {
   "display_name": "Python 3",
   "language": "python",
   "name": "python3"
  },
  "language_info": {
   "codemirror_mode": {
    "name": "ipython",
    "version": 3
   },
   "file_extension": ".py",
   "mimetype": "text/x-python",
   "name": "python",
   "nbconvert_exporter": "python",
   "pygments_lexer": "ipython3",
   "version": "3.6.5"
  }
 },
 "nbformat": 4,
 "nbformat_minor": 2
}
