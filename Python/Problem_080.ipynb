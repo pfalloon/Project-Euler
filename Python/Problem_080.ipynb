{
 "cells": [
  {
   "cell_type": "markdown",
   "metadata": {},
   "source": [
    "# [Project Euler Problem 80](https://projecteuler.net/problem=80)"
   ]
  },
  {
   "cell_type": "markdown",
   "metadata": {},
   "source": [
    "This solution uses Newton's method for finding the root of $f(x) = x^2 - n$. Since all irrational square roots for $n\\leq100$ have 1 digit before the decimal point, the first 100 decimal digits can be found by working with (big) integers and first multiplying $\\sqrt{n}$ by $10^{99}$, i.e. multiplying $n$ by $10^{198}$."
   ]
  },
  {
   "cell_type": "code",
   "execution_count": 12,
   "metadata": {},
   "outputs": [],
   "source": [
    "def sqrt_digit_sum(n):\n",
    "    S = n*10**198    \n",
    "    s1,s2=1,2\n",
    "    while s1 != s2:\n",
    "        s1,s2 = s2,(s2 + S//s2)//2\n",
    "    return sum([int(d) for d in str(s1)])"
   ]
  },
  {
   "cell_type": "code",
   "execution_count": 15,
   "metadata": {},
   "outputs": [
    {
     "data": {
      "text/plain": [
       "40886"
      ]
     },
     "execution_count": 15,
     "metadata": {},
     "output_type": "execute_result"
    }
   ],
   "source": [
    "squares = {n**2 for n in range(1,11)}\n",
    "sum([sqrt_digit_sum(n) for n in range(1,101) if n not in squares])"
   ]
  }
 ],
 "metadata": {
  "kernelspec": {
   "display_name": "Python 3",
   "language": "python",
   "name": "python3"
  },
  "language_info": {
   "codemirror_mode": {
    "name": "ipython",
    "version": 3
   },
   "file_extension": ".py",
   "mimetype": "text/x-python",
   "name": "python",
   "nbconvert_exporter": "python",
   "pygments_lexer": "ipython3",
   "version": "3.6.5"
  }
 },
 "nbformat": 4,
 "nbformat_minor": 2
}
