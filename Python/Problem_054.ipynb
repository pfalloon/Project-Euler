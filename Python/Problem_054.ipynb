{
 "cells": [
  {
   "cell_type": "markdown",
   "metadata": {},
   "source": [
    "# [Project Euler Problem 54](https://projecteuler.net/problem=54)"
   ]
  },
  {
   "cell_type": "code",
   "execution_count": 148,
   "metadata": {},
   "outputs": [],
   "source": [
    "class PokerCard():\n",
    "\n",
    "    rank_lu = {'2':2, '3':3, '4':4, '5':5, '6':6, '7':7, '8':8, '9':9, 'T':10, 'J':11, 'Q':12, 'K':13, 'A':14}\n",
    "    suits = {'C', 'D', 'H', 'S'}\n",
    "\n",
    "    def __init__(self, card):\n",
    "        self.face = card[0]\n",
    "        self.suit = card[1]\n",
    "        if not (self.face in PokerCard.rank_lu and self.suit in PokerCard.suits):\n",
    "            raise ValueError('invalid card')\n",
    "\n",
    "    def rank(self):\n",
    "        return PokerCard.rank_lu[self.face]\n",
    "\n",
    "    def __repr__(self):\n",
    "        return f'card({self.face}{self.suit})'\n",
    "\n",
    "    def __str__(self):\n",
    "        return self.face + self.suit\n",
    "\n",
    "    def __eq__(self, other):\n",
    "        return self.face == other.face and self.suit == other.suit\n",
    "\n",
    "    def __ge__ (self, other):\n",
    "        return self.rank() >= other.rank()\n",
    "\n",
    "    def __gt__ (self, other):\n",
    "        return self.rank() > other.rank()"
   ]
  },
  {
   "cell_type": "code",
   "execution_count": 206,
   "metadata": {},
   "outputs": [],
   "source": [
    "class PokerHand():\n",
    "\n",
    "    _types = ['nothing', 'pair', 'two pair', 'three of a kind', 'straight', 'flush', 'full house', 'four of a kind', 'straight flush']\n",
    "    _rank_lu = dict([(h,r) for r,h in enumerate(_types)])\n",
    "    _type_lu = dict(enumerate(_types))\n",
    "                  \n",
    "    def __init__(self, cards):\n",
    "        if type(cards) is list:\n",
    "            if type(cards[0]) is PokerCard:\n",
    "                self.cards = cards\n",
    "            elif type(cards[0]) is str:\n",
    "                self.cards = [PokerCard(c) for c in cards]\n",
    "            else:\n",
    "                raise ValueError('Unrecognized card format')\n",
    "        elif type(cards) is str:\n",
    "            self.cards = [PokerCard(c) for c in cards.rstrip().split()]\n",
    "        else:\n",
    "            raise ValueError('Unrecognized card format')\n",
    "        if len(self.cards) != 5:\n",
    "                raise ValueError('A poker hand must contain 5 cards')\n",
    "        self.cards.sort()\n",
    "        self.ranks = [c.rank() for c in self.cards]\n",
    "\n",
    "    def is_flush(self):\n",
    "        suit = self.cards[0].suit\n",
    "        for c in self.cards[1:]:\n",
    "            if c.suit != suit:\n",
    "                return False\n",
    "        return True\n",
    "\n",
    "    def is_straight(self):\n",
    "        if self.ranks == [2,3,4,5,14]:\n",
    "            return True\n",
    "        for k in range(4):\n",
    "            if self.ranks[k+1] != self.ranks[k] + 1:\n",
    "                return False\n",
    "        return True\n",
    "\n",
    "    def is_straight_flush(self):\n",
    "        return self.is_flush() and self.is_flush()\n",
    "\n",
    "    def is_four_of_a_kind(self):\n",
    "        return self.ranks.count(self.ranks[1]) == 4\n",
    "\n",
    "    def is_full_house(self):\n",
    "        c1,c5 = [self.ranks.count(c) for c in self.ranks[::4]]\n",
    "        return c1 == 2 and c5 == 3 or c1 == 3 and c5 == 2\n",
    "\n",
    "    def is_three_of_a_kind(self):\n",
    "        return self.ranks.count(self.ranks[2]) == 3\n",
    "\n",
    "    def is_two_pair(self):\n",
    "        r = self.ranks\n",
    "        return r[0]==r[1] and (r[2]==r[3] or r[3]==r[4]) or r[1]==r[2] and r[3]==r[4]\n",
    "\n",
    "    def is_pair(self):\n",
    "        for k in range(4):\n",
    "            if self.ranks[k+1] == self.ranks[k]:\n",
    "                 return True\n",
    "        return False\n",
    "\n",
    "    def straight_rank(self):\n",
    "        if not self.is_straight():\n",
    "            return 0\n",
    "        elif self.ranks[0] == 2 and self.ranks[-1] == 14:\n",
    "            return 1\n",
    "        return self.ranks[0]\n",
    "    \n",
    "    def high_card_rank(self):\n",
    "        return max([r for r in self.ranks if self.ranks.count(r) == 1])\n",
    "\n",
    "    def high_pair_rank(self):\n",
    "        pair_ranks = [r for r in self.ranks if self.ranks.count(r) == 2]\n",
    "        if pair_ranks:\n",
    "            return max(pair_ranks)\n",
    "        return 0\n",
    "\n",
    "    def low_pair_rank(self):\n",
    "        pair_ranks = [r for r in self.ranks if self.ranks.count(r) == 2]\n",
    "        if pair_ranks:\n",
    "            return min(pair_ranks)\n",
    "        return 0\n",
    "    \n",
    "    def hand_type(self):\n",
    "        if self.is_straight_flush():\n",
    "            return 'straight flush'\n",
    "        elif self.is_four_of_a_kind():\n",
    "            return 'four of a kind'\n",
    "        elif self.is_full_house():\n",
    "            return 'full house'\n",
    "        elif self.is_flush():\n",
    "            return 'flush'\n",
    "        elif self.is_straight():\n",
    "            return 'straight'\n",
    "        elif self.is_three_of_a_kind():\n",
    "            return 'three of a kind'\n",
    "        elif self.is_two_pair():\n",
    "            return 'two pair'\n",
    "        elif self.is_pair():\n",
    "            return 'pair'\n",
    "        return 'nothing'\n",
    "    \n",
    "    def hand_score(self):\n",
    "        if self.is_straight_flush():\n",
    "            return (self.__class__._rank_lu['straight flush'], self.straight_rank())\n",
    "        elif self.is_four_of_a_kind():\n",
    "            return (self.__class__._rank_lu['four of a kind'], self.ranks[2])\n",
    "        elif self.is_full_house():\n",
    "            return (self.__class__._rank_lu['full house'], self.ranks[2])\n",
    "        elif self.is_flush():\n",
    "            return tuple([self.__class__._rank_lu['flush']] + self.ranks[::-1])\n",
    "        elif self.is_straight():\n",
    "            return (self.__class__._rank_lu['straight'], self.straight_rank())\n",
    "        elif self.is_three_of_a_kind():\n",
    "            return (self.__class__._rank_lu['three of a kind'], self.ranks[2])\n",
    "        elif self.is_two_pair():\n",
    "            return (self.__class__._rank_lu['two pair'], self.high_pair_rank(), self.low_pair_rank(), self.high_card_rank())\n",
    "        elif self.is_pair():\n",
    "            return tuple([self.__class__._rank_lu['pair'], self.high_pair_rank()] + [r for r in self.ranks[::-1] if self.ranks.count(r) == 1])\n",
    "        return tuple([self.__class__._rank_lu['nothing']] + self.ranks[::-1])\n",
    "\n",
    "    def __repr__(self):\n",
    "        return ' '.join([str(c) for c in self.cards]) + f' ({self.hand_type()})'\n",
    "\n",
    "    def __eq__(self, other):\n",
    "        return self.ranks == other.ranks\n",
    "\n",
    "    def __gt__(self, other):\n",
    "        sc1 = self.hand_score()\n",
    "        sc2 = other.hand_score()\n",
    "        if sc1[0] != sc2[0]:\n",
    "            return sc1[0] > sc2[0]\n",
    "        else:\n",
    "            for r1,r2 in zip(sc1[1:],sc2[1:]):\n",
    "                if r1 != r2:\n",
    "                    return r1 > r2\n",
    "        return False"
   ]
  },
  {
   "cell_type": "code",
   "execution_count": 207,
   "metadata": {},
   "outputs": [
    {
     "data": {
      "text/plain": [
       "376"
      ]
     },
     "execution_count": 207,
     "metadata": {},
     "output_type": "execute_result"
    }
   ],
   "source": [
    "cnt = 0\n",
    "for ln in open('p054_poker.txt', 'r'):\n",
    "    cards = ln.strip().split()\n",
    "    if PokerHand(cards[:5]) > PokerHand(cards[5:]):\n",
    "        cnt += 1\n",
    "cnt"
   ]
  },
  {
   "cell_type": "code",
   "execution_count": 208,
   "metadata": {},
   "outputs": [
    {
     "data": {
      "text/plain": [
       "3C 4S 7S 8S TS (nothing)"
      ]
     },
     "execution_count": 208,
     "metadata": {},
     "output_type": "execute_result"
    }
   ],
   "source": [
    "cards = ['8S', '3C', '4S', 'TS', '7S', '4D', '5C', '2S', '6H', '7C']\n",
    "PokerHand(cards[:5])"
   ]
  },
  {
   "cell_type": "code",
   "execution_count": 209,
   "metadata": {},
   "outputs": [
    {
     "data": {
      "text/plain": [
       "KH AC AD AH AS (four of a kind)"
      ]
     },
     "execution_count": 209,
     "metadata": {},
     "output_type": "execute_result"
    }
   ],
   "source": [
    "PokerHand(['AC', 'AD', 'AH', 'AS', 'KH'])"
   ]
  },
  {
   "cell_type": "code",
   "execution_count": 210,
   "metadata": {},
   "outputs": [
    {
     "data": {
      "text/plain": [
       "KH AC AD AH AS (four of a kind)"
      ]
     },
     "execution_count": 210,
     "metadata": {},
     "output_type": "execute_result"
    }
   ],
   "source": [
    "PokerHand('AC AD AH AS KH')"
   ]
  },
  {
   "cell_type": "code",
   "execution_count": null,
   "metadata": {},
   "outputs": [],
   "source": []
  }
 ],
 "metadata": {
  "kernelspec": {
   "display_name": "Python 3",
   "language": "python",
   "name": "python3"
  },
  "language_info": {
   "codemirror_mode": {
    "name": "ipython",
    "version": 3
   },
   "file_extension": ".py",
   "mimetype": "text/x-python",
   "name": "python",
   "nbconvert_exporter": "python",
   "pygments_lexer": "ipython3",
   "version": "3.6.5"
  }
 },
 "nbformat": 4,
 "nbformat_minor": 2
}
