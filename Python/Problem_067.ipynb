{
 "cells": [
  {
   "cell_type": "markdown",
   "metadata": {},
   "source": [
    "# [Project Euler Problem 67](https://projecteuler.net/problem=67)"
   ]
  },
  {
   "cell_type": "code",
   "execution_count": 22,
   "metadata": {},
   "outputs": [],
   "source": [
    "def solve_triangle(triangle):\n",
    "    if len(triangle) > 2:\n",
    "        return solve_triangle(triangle[:-2] + [solve_triangle(triangle[-2:])])\n",
    "    elif len(triangle) == 1:\n",
    "        return triangle[0]\n",
    "    elif len(triangle) == 0:\n",
    "        return []\n",
    "    a, b = triangle\n",
    "    if len(b) != len(a) + 1:\n",
    "        raise ValueError('row lengths of triangle must increase by 1')\n",
    "    return [a[i] + max(b[i:i+2]) for i in range(len(a))]"
   ]
  },
  {
   "cell_type": "code",
   "execution_count": 23,
   "metadata": {},
   "outputs": [
    {
     "data": {
      "text/plain": [
       "[7273]"
      ]
     },
     "execution_count": 23,
     "metadata": {},
     "output_type": "execute_result"
    }
   ],
   "source": [
    "solve_triangle([[int(d) for d in row.rstrip().split()] for row in open('p067_triangle.txt', 'r').readlines()])"
   ]
  }
 ],
 "metadata": {
  "kernelspec": {
   "display_name": "Python 3",
   "language": "python",
   "name": "python3"
  },
  "language_info": {
   "codemirror_mode": {
    "name": "ipython",
    "version": 3
   },
   "file_extension": ".py",
   "mimetype": "text/x-python",
   "name": "python",
   "nbconvert_exporter": "python",
   "pygments_lexer": "ipython3",
   "version": "3.6.5"
  }
 },
 "nbformat": 4,
 "nbformat_minor": 2
}
