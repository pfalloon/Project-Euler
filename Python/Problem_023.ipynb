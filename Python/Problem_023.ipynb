{
 "cells": [
  {
   "cell_type": "markdown",
   "metadata": {},
   "source": [
    "# [Project Euler Problem 23](https://projecteuler.net/problem=23)"
   ]
  },
  {
   "cell_type": "code",
   "execution_count": 3,
   "metadata": {},
   "outputs": [],
   "source": [
    "def divisor_sums(M):\n",
    "    sums = [1]*(M+1) # 1 is a proper divisor of n > 1\n",
    "    sums[0] = sums[1] = 0 # 0 and 1 have no proper divisors\n",
    "    for d in range(2, M+1):\n",
    "        for k in range(2*d, M+1, d):\n",
    "            sums[k] += d\n",
    "    return sums"
   ]
  },
  {
   "cell_type": "code",
   "execution_count": 13,
   "metadata": {},
   "outputs": [],
   "source": [
    "def abundant_numbers(M):\n",
    "    abundant_lu = {}\n",
    "    for k, dsum in enumerate(divisor_sums(M)):\n",
    "        if dsum > k:\n",
    "            abundant_lu[k] = True\n",
    "    return sorted(list(abundant_lu.keys()))"
   ]
  },
  {
   "cell_type": "code",
   "execution_count": 21,
   "metadata": {},
   "outputs": [],
   "source": [
    "def non_abundant_sums(M):\n",
    "    ab_nums = abundant_numbers(M)\n",
    "    is_ab_sum = [False]*(M+1) \n",
    "    for i in ab_nums:\n",
    "        for j in ab_nums:\n",
    "            n = i + j\n",
    "            if n > M:\n",
    "                break\n",
    "            is_ab_sum[n] = True\n",
    "    non_ab_sums = dict()\n",
    "    for n, tf in enumerate(is_ab_sum):\n",
    "        if not tf:\n",
    "            non_ab_sums[n] = True\n",
    "    return sorted(list(non_ab_sums.keys()))"
   ]
  },
  {
   "cell_type": "code",
   "execution_count": 29,
   "metadata": {},
   "outputs": [
    {
     "data": {
      "text/plain": [
       "4179871"
      ]
     },
     "execution_count": 29,
     "metadata": {},
     "output_type": "execute_result"
    }
   ],
   "source": [
    "sum(non_abundant_sums(28123))"
   ]
  }
 ],
 "metadata": {
  "kernelspec": {
   "display_name": "Python 3",
   "language": "python",
   "name": "python3"
  },
  "language_info": {
   "codemirror_mode": {
    "name": "ipython",
    "version": 3
   },
   "file_extension": ".py",
   "mimetype": "text/x-python",
   "name": "python",
   "nbconvert_exporter": "python",
   "pygments_lexer": "ipython3",
   "version": "3.6.5"
  }
 },
 "nbformat": 4,
 "nbformat_minor": 2
}
