{
 "cells": [
  {
   "cell_type": "markdown",
   "metadata": {},
   "source": [
    "# [Project Euler Problem 22](https://projecteuler.net/problem=22)"
   ]
  },
  {
   "cell_type": "code",
   "execution_count": 23,
   "metadata": {},
   "outputs": [],
   "source": [
    "names = open('p022_names.txt', 'r').readlines()\n",
    "names = names[0].replace('\"','').split(',')\n",
    "names.sort()"
   ]
  },
  {
   "cell_type": "code",
   "execution_count": 24,
   "metadata": {},
   "outputs": [
    {
     "data": {
      "text/plain": [
       "['AARON',\n",
       " 'ABBEY',\n",
       " 'ABBIE',\n",
       " 'ABBY',\n",
       " 'ABDUL',\n",
       " 'ABE',\n",
       " 'ABEL',\n",
       " 'ABIGAIL',\n",
       " 'ABRAHAM',\n",
       " 'ABRAM']"
      ]
     },
     "execution_count": 24,
     "metadata": {},
     "output_type": "execute_result"
    }
   ],
   "source": [
    "names[:10]"
   ]
  },
  {
   "cell_type": "code",
   "execution_count": 25,
   "metadata": {},
   "outputs": [],
   "source": [
    "letter_scores = dict(zip('ABCDEFGHIJKLMNOPQRSTUVWXYZ', range(1,27)))\n",
    "def name_score(name):\n",
    "    score = 0\n",
    "    for c in name:\n",
    "        score += letter_scores[c]\n",
    "    return score"
   ]
  },
  {
   "cell_type": "code",
   "execution_count": 26,
   "metadata": {},
   "outputs": [
    {
     "data": {
      "text/plain": [
       "53"
      ]
     },
     "execution_count": 26,
     "metadata": {},
     "output_type": "execute_result"
    }
   ],
   "source": [
    "name_score('COLIN')"
   ]
  },
  {
   "cell_type": "code",
   "execution_count": 28,
   "metadata": {},
   "outputs": [
    {
     "name": "stdout",
     "output_type": "stream",
     "text": [
      "1 AARON\n",
      "2 ABBEY\n",
      "3 ABBIE\n",
      "4 ABBY\n",
      "5 ABDUL\n",
      "6 ABE\n",
      "7 ABEL\n",
      "8 ABIGAIL\n",
      "9 ABRAHAM\n",
      "10 ABRAM\n"
     ]
    }
   ],
   "source": [
    "for i,s in enumerate(names[:10]):\n",
    "    print(i+1, s)"
   ]
  },
  {
   "cell_type": "code",
   "execution_count": 29,
   "metadata": {},
   "outputs": [
    {
     "data": {
      "text/plain": [
       "871198282"
      ]
     },
     "execution_count": 29,
     "metadata": {},
     "output_type": "execute_result"
    }
   ],
   "source": [
    "tot = 0\n",
    "for i,s in enumerate(names):\n",
    "    tot += (i+1)*name_score(s)\n",
    "tot"
   ]
  }
 ],
 "metadata": {
  "kernelspec": {
   "display_name": "Python 3",
   "language": "python",
   "name": "python3"
  },
  "language_info": {
   "codemirror_mode": {
    "name": "ipython",
    "version": 3
   },
   "file_extension": ".py",
   "mimetype": "text/x-python",
   "name": "python",
   "nbconvert_exporter": "python",
   "pygments_lexer": "ipython3",
   "version": "3.6.5"
  }
 },
 "nbformat": 4,
 "nbformat_minor": 2
}
