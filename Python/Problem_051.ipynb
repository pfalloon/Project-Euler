{
 "cells": [
  {
   "cell_type": "markdown",
   "metadata": {},
   "source": [
    "# [Project Euler Problem 51](https://projecteuler.net/problem=51)"
   ]
  },
  {
   "cell_type": "code",
   "execution_count": 37,
   "metadata": {},
   "outputs": [],
   "source": [
    "M = 10**6\n",
    "prime_lu = [False]*2 + [True]*(M-1)\n",
    "for n in range(2, M+1):\n",
    "    if prime_lu[n]:\n",
    "        for k in range(2*n, M+1, n):\n",
    "            prime_lu[k] = False\n",
    "primes = [str(p) for p,tf in enumerate(prime_lu) if tf]\n",
    "prime_lu = {*primes}"
   ]
  },
  {
   "cell_type": "code",
   "execution_count": 44,
   "metadata": {},
   "outputs": [],
   "source": [
    "from itertools import combinations\n",
    "def sub_prime_cnt(p):\n",
    "    ps = str(p)\n",
    "    n = len(ps)\n",
    "    cnt_max = 0\n",
    "    rep_max = None\n",
    "    for nrep in range(1, n+1):\n",
    "        for irep in combinations(range(n), nrep):\n",
    "            pl = list(ps)\n",
    "            cnt = 0\n",
    "            for d in range(10):\n",
    "                ds = str(d)\n",
    "                for i in irep:\n",
    "                    pl[i] = ds\n",
    "                if ''.join(pl) in prime_lu:\n",
    "                    cnt += 1\n",
    "            if cnt > cnt_max:\n",
    "                cnt_max = cnt\n",
    "                rep_max = irep\n",
    "    return (cnt_max, rep_max)"
   ]
  },
  {
   "cell_type": "code",
   "execution_count": 49,
   "metadata": {},
   "outputs": [
    {
     "name": "stdout",
     "output_type": "stream",
     "text": [
      "120383 (0, 2, 4)\n"
     ]
    }
   ],
   "source": [
    "for k in primes:\n",
    "    cnt, rep = sub_prime_cnt(k)\n",
    "    if cnt == 8:\n",
    "        print(k, rep)\n",
    "        break"
   ]
  }
 ],
 "metadata": {
  "kernelspec": {
   "display_name": "Python 3",
   "language": "python",
   "name": "python3"
  },
  "language_info": {
   "codemirror_mode": {
    "name": "ipython",
    "version": 3
   },
   "file_extension": ".py",
   "mimetype": "text/x-python",
   "name": "python",
   "nbconvert_exporter": "python",
   "pygments_lexer": "ipython3",
   "version": "3.6.5"
  }
 },
 "nbformat": 4,
 "nbformat_minor": 2
}
