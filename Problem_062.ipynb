{
 "cells": [
  {
   "cell_type": "markdown",
   "metadata": {},
   "source": [
    "# [Project Euler Problem 62](https://projecteuler.net/problem=62)"
   ]
  },
  {
   "cell_type": "code",
   "execution_count": 1,
   "metadata": {},
   "outputs": [
    {
     "data": {
      "text/plain": [
       "['127035954683',\n",
       " '352045367981',\n",
       " '373559126408',\n",
       " '569310543872',\n",
       " '589323567104']"
      ]
     },
     "execution_count": 1,
     "metadata": {},
     "output_type": "execute_result"
    }
   ],
   "source": [
    "lu = {}\n",
    "n = 1\n",
    "while True:\n",
    "    n3 = str(n**3)\n",
    "    key = ''.join(sorted(n3))\n",
    "    if key not in lu:\n",
    "        lu[key] = [n3]\n",
    "    else:\n",
    "        lu[key].append(n3)\n",
    "        if len(lu[key]) == 5:\n",
    "            break\n",
    "    n += 1\n",
    "lu[key]"
   ]
  },
  {
   "cell_type": "code",
   "execution_count": 12,
   "metadata": {},
   "outputs": [],
   "source": [
    "def find_cube_perms(cnt):\n",
    "    n,M = 1,10\n",
    "    lu = {}\n",
    "    while True:\n",
    "        n3 = n**3\n",
    "        if n3 > M:\n",
    "            for key in lu:\n",
    "                if len(lu[key]) == cnt:\n",
    "                    return lu[key]\n",
    "            lu = {}\n",
    "            M *= 10\n",
    "        key = ''.join(sorted(str(n3)))\n",
    "        if key not in lu:\n",
    "            lu[key] = [n3]\n",
    "        else:\n",
    "            lu[key].append(n3)\n",
    "        n += 1"
   ]
  },
  {
   "cell_type": "code",
   "execution_count": 17,
   "metadata": {},
   "outputs": [
    {
     "data": {
      "text/plain": [
       "[41063625, 56623104, 66430125]"
      ]
     },
     "execution_count": 17,
     "metadata": {},
     "output_type": "execute_result"
    }
   ],
   "source": [
    "find_cube_perms(3)"
   ]
  },
  {
   "cell_type": "code",
   "execution_count": 18,
   "metadata": {},
   "outputs": [
    {
     "data": {
      "text/plain": [
       "[1006012008, 1061208000, 8012006001, 8120601000]"
      ]
     },
     "execution_count": 18,
     "metadata": {},
     "output_type": "execute_result"
    }
   ],
   "source": [
    "find_cube_perms(4)"
   ]
  },
  {
   "cell_type": "code",
   "execution_count": 19,
   "metadata": {},
   "outputs": [
    {
     "data": {
      "text/plain": [
       "[127035954683, 352045367981, 373559126408, 569310543872, 589323567104]"
      ]
     },
     "execution_count": 19,
     "metadata": {},
     "output_type": "execute_result"
    }
   ],
   "source": [
    "find_cube_perms(5)"
   ]
  },
  {
   "cell_type": "code",
   "execution_count": 20,
   "metadata": {},
   "outputs": [
    {
     "data": {
      "text/plain": [
       "[1000600120008,\n",
       " 1006012008000,\n",
       " 1061208000000,\n",
       " 8001200060001,\n",
       " 8012006001000,\n",
       " 8120601000000]"
      ]
     },
     "execution_count": 20,
     "metadata": {},
     "output_type": "execute_result"
    }
   ],
   "source": [
    "find_cube_perms(6)"
   ]
  },
  {
   "cell_type": "code",
   "execution_count": 21,
   "metadata": {},
   "outputs": [
    {
     "data": {
      "text/plain": [
       "[10569784298536,\n",
       " 18083756564992,\n",
       " 18965807549632,\n",
       " 50628361995784,\n",
       " 75966439518208,\n",
       " 97831984066552,\n",
       " 99852138660457]"
      ]
     },
     "execution_count": 21,
     "metadata": {},
     "output_type": "execute_result"
    }
   ],
   "source": [
    "find_cube_perms(7)"
   ]
  },
  {
   "cell_type": "code",
   "execution_count": 22,
   "metadata": {},
   "outputs": [
    {
     "data": {
      "text/plain": [
       "[10314675896832,\n",
       " 12417863650893,\n",
       " 13974881626503,\n",
       " 19317865402368,\n",
       " 71096865321483,\n",
       " 78342316815069,\n",
       " 89260685431371,\n",
       " 98534308116672]"
      ]
     },
     "execution_count": 22,
     "metadata": {},
     "output_type": "execute_result"
    }
   ],
   "source": [
    "find_cube_perms(8)"
   ]
  },
  {
   "cell_type": "code",
   "execution_count": 23,
   "metadata": {},
   "outputs": [
    {
     "data": {
      "text/plain": [
       "[13465983902671,\n",
       " 18102364796593,\n",
       " 23667095189431,\n",
       " 23719065439168,\n",
       " 38160429751963,\n",
       " 68312596071439,\n",
       " 68523370149961,\n",
       " 80997264315163,\n",
       " 96803741135296]"
      ]
     },
     "execution_count": 23,
     "metadata": {},
     "output_type": "execute_result"
    }
   ],
   "source": [
    "find_cube_perms(9)"
   ]
  },
  {
   "cell_type": "code",
   "execution_count": 24,
   "metadata": {},
   "outputs": [
    {
     "data": {
      "text/plain": [
       "[109867826442375,\n",
       " 246208938451776,\n",
       " 262685043797184,\n",
       " 306154768248792,\n",
       " 417536209726488,\n",
       " 480766358472219,\n",
       " 486589173270264,\n",
       " 634747805892621,\n",
       " 726160594428387,\n",
       " 913746046258872]"
      ]
     },
     "execution_count": 24,
     "metadata": {},
     "output_type": "execute_result"
    }
   ],
   "source": [
    "find_cube_perms(10)"
   ]
  },
  {
   "cell_type": "code",
   "execution_count": null,
   "metadata": {},
   "outputs": [],
   "source": []
  }
 ],
 "metadata": {
  "kernelspec": {
   "display_name": "Python 3",
   "language": "python",
   "name": "python3"
  },
  "language_info": {
   "codemirror_mode": {
    "name": "ipython",
    "version": 3
   },
   "file_extension": ".py",
   "mimetype": "text/x-python",
   "name": "python",
   "nbconvert_exporter": "python",
   "pygments_lexer": "ipython3",
   "version": "3.6.5"
  }
 },
 "nbformat": 4,
 "nbformat_minor": 2
}
