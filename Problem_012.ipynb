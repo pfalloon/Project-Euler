{
 "cells": [
  {
   "cell_type": "markdown",
   "metadata": {},
   "source": [
    "# [Project Euler Problem 12](https://projecteuler.net/problem=12)"
   ]
  },
  {
   "cell_type": "code",
   "execution_count": 12,
   "metadata": {},
   "outputs": [],
   "source": [
    "import math\n",
    "def divisor_count(n):\n",
    "    cnt = 2\n",
    "    for d in range(2, math.floor(math.sqrt(n))+1):\n",
    "        if n % d == 0:\n",
    "            if d == n//d:\n",
    "                cnt += 1\n",
    "            else:\n",
    "                cnt += 2\n",
    "    return cnt"
   ]
  },
  {
   "cell_type": "code",
   "execution_count": 24,
   "metadata": {},
   "outputs": [],
   "source": [
    "def triangle_with_divisors(M):\n",
    "    n = 0\n",
    "    tri_n = 0\n",
    "    while True:\n",
    "        n += 1\n",
    "        tri_n += n\n",
    "        div_cnt = divisor_count(tri_n)\n",
    "        if div_cnt > M:\n",
    "            break\n",
    "    return (n, tri_n, div_cnt)"
   ]
  },
  {
   "cell_type": "code",
   "execution_count": 27,
   "metadata": {},
   "outputs": [
    {
     "data": {
      "text/plain": [
       "(12375, 76576500, 576)"
      ]
     },
     "execution_count": 27,
     "metadata": {},
     "output_type": "execute_result"
    }
   ],
   "source": [
    "triangle_with_divisors(500)"
   ]
  }
 ],
 "metadata": {
  "kernelspec": {
   "display_name": "Python 3",
   "language": "python",
   "name": "python3"
  },
  "language_info": {
   "codemirror_mode": {
    "name": "ipython",
    "version": 3
   },
   "file_extension": ".py",
   "mimetype": "text/x-python",
   "name": "python",
   "nbconvert_exporter": "python",
   "pygments_lexer": "ipython3",
   "version": "3.6.5"
  }
 },
 "nbformat": 4,
 "nbformat_minor": 2
}
