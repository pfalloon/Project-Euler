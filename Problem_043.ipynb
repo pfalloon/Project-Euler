{
 "cells": [
  {
   "cell_type": "markdown",
   "metadata": {},
   "source": [
    "# [Project Euler Problem 43](https://projecteuler.net/problem=43)"
   ]
  },
  {
   "cell_type": "code",
   "execution_count": 49,
   "metadata": {},
   "outputs": [],
   "source": [
    "prime_lu = [1, 2, 3, 5, 7, 11, 13, 17]\n",
    "def is_divisible(perm):\n",
    "    \"\"\"perm is an iterable containing the digits of a pandigital number\"\"\"\n",
    "    s = ''.join([str(d) for d in perm])\n",
    "    for k in range(1, len(perm)-2):\n",
    "        if int(s[k:k+3]) % prime_lu[k]:\n",
    "            return False\n",
    "    return True"
   ]
  },
  {
   "cell_type": "code",
   "execution_count": 50,
   "metadata": {},
   "outputs": [
    {
     "data": {
      "text/plain": [
       "True"
      ]
     },
     "execution_count": 50,
     "metadata": {},
     "output_type": "execute_result"
    }
   ],
   "source": [
    "is_divisible((1,4,0,6,3,5,7,2,8,9))"
   ]
  },
  {
   "cell_type": "code",
   "execution_count": 51,
   "metadata": {},
   "outputs": [],
   "source": [
    "from itertools import permutations\n",
    "\n",
    "def divisible_permutations(N):\n",
    "    res = {}\n",
    "    for perm in permutations(range(N)):\n",
    "        if perm[0] != 0 and is_divisible(perm):\n",
    "            res[perm] = None\n",
    "    return list(res.keys())\n",
    "\n",
    "def perm_to_int(perm):\n",
    "    n = 0\n",
    "    for d in perm:\n",
    "        n = 10*n + d\n",
    "    return n"
   ]
  },
  {
   "cell_type": "code",
   "execution_count": 52,
   "metadata": {},
   "outputs": [
    {
     "data": {
      "text/plain": [
       "[1406357289, 1430952867, 1460357289, 4106357289, 4130952867, 4160357289]"
      ]
     },
     "execution_count": 52,
     "metadata": {},
     "output_type": "execute_result"
    }
   ],
   "source": [
    "[perm_to_int(p) for p in divisible_permutations(10)]"
   ]
  },
  {
   "cell_type": "code",
   "execution_count": 53,
   "metadata": {},
   "outputs": [
    {
     "data": {
      "text/plain": [
       "16695334890"
      ]
     },
     "execution_count": 53,
     "metadata": {},
     "output_type": "execute_result"
    }
   ],
   "source": [
    "sum(_)"
   ]
  }
 ],
 "metadata": {
  "kernelspec": {
   "display_name": "Python 3",
   "language": "python",
   "name": "python3"
  },
  "language_info": {
   "codemirror_mode": {
    "name": "ipython",
    "version": 3
   },
   "file_extension": ".py",
   "mimetype": "text/x-python",
   "name": "python",
   "nbconvert_exporter": "python",
   "pygments_lexer": "ipython3",
   "version": "3.6.5"
  }
 },
 "nbformat": 4,
 "nbformat_minor": 2
}
