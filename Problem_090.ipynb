{
 "cells": [
  {
   "cell_type": "markdown",
   "metadata": {},
   "source": [
    "# [Project Euler Problem 90](https://projecteuler.net/problem=90)"
   ]
  },
  {
   "cell_type": "code",
   "execution_count": 19,
   "metadata": {},
   "outputs": [
    {
     "data": {
      "text/plain": [
       "1217"
      ]
     },
     "execution_count": 19,
     "metadata": {},
     "output_type": "execute_result"
    }
   ],
   "source": [
    "from itertools import combinations\n",
    "\n",
    "squares = [(0,1), (0,4), (0,9), (1,6), (2,5), (3,6), (4,9), (6,4), (8,1)]\n",
    "\n",
    "def valid_combination(digits1, digits2):\n",
    "    d1 = set(digits1)\n",
    "    d2 = set(digits2)\n",
    "    if 6 in d1:\n",
    "        d1.add(9)\n",
    "    if 9 in digits1:\n",
    "        d1.add(6)\n",
    "    if 6 in d2:\n",
    "        d2.add(9)\n",
    "    if 9 in d2:\n",
    "        d2.add(6)\n",
    "    for a,b in squares: \n",
    "        if not (a in d1 and b in d2 or a in d2 and b in d1):\n",
    "            return False\n",
    "    return True\n",
    "\n",
    "cnt = 0\n",
    "for d1 in combinations(range(10), 6):\n",
    "    for d2 in combinations(range(10), 6):\n",
    "        if valid_combination(d1, d2):\n",
    "            if d1 == d2:\n",
    "                cnt += 2\n",
    "            else:\n",
    "                cnt += 1\n",
    "cnt // 2 # have counted all pairs twice"
   ]
  }
 ],
 "metadata": {
  "kernelspec": {
   "display_name": "Python 3",
   "language": "python",
   "name": "python3"
  },
  "language_info": {
   "codemirror_mode": {
    "name": "ipython",
    "version": 3
   },
   "file_extension": ".py",
   "mimetype": "text/x-python",
   "name": "python",
   "nbconvert_exporter": "python",
   "pygments_lexer": "ipython3",
   "version": "3.6.5"
  }
 },
 "nbformat": 4,
 "nbformat_minor": 2
}
