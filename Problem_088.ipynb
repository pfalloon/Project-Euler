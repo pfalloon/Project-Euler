{
 "cells": [
  {
   "cell_type": "markdown",
   "metadata": {},
   "source": [
    "# [Project Euler Problem 88](https://projecteuler.net/problem=88)"
   ]
  },
  {
   "cell_type": "markdown",
   "metadata": {},
   "source": [
    "We make use of the following facts. For a given set of digits $d_1,\\dots,d_m$:\n",
    "\n",
    "1. There is a single $k$ value, corresponding to the number of 1's that must be added in the sum to equal the product:\n",
    "$$\n",
    "k = m + \\prod_{j=1}^m d_j - \\sum_{j=1}^m d_j\n",
    "$$\n",
    "1. Adding an extra digit $d_{m+1}$ increases $k$.\n",
    "\n",
    "2. Changing $d_m$ to $d_m+1$ cannot decrease $k$ since $\\prod_{j=1}^{m-1}d_j \\geq \\sum_{j=1}^{m-1}d_j$.\n",
    "\n",
    "3. If the leading digit is $n$, the smallest $k$ comes from $1+1+\\dots+n+n$, which gives $k = n^2-2n+2$."
   ]
  },
  {
   "cell_type": "code",
   "execution_count": 32,
   "metadata": {},
   "outputs": [],
   "source": [
    "def minimal_prod_sum(M):\n",
    "    min_vals = [0]*(M+1)\n",
    "    def find_vals(seq, pd, sm):\n",
    "        if len(seq) > 1:\n",
    "            k = len(seq) + pd - sm\n",
    "            if k > M:\n",
    "                return\n",
    "            if min_vals[k] == 0 or pd < min_vals[k]:\n",
    "                min_vals[k] = pd\n",
    "            # increase last digit\n",
    "            find_vals(seq[:-1]+[seq[-1]+1], pd//seq[-1]*(1+seq[-1]), sm+1)\n",
    "        # append last digit\n",
    "        find_vals(seq+[seq[-1]], pd*seq[-1], sm+seq[-1])\n",
    "        return\n",
    "    for n in range(2,M):\n",
    "        if n**2 - 2*n + 2 > M:\n",
    "            break\n",
    "        find_vals([n], n, n)\n",
    "    return min_vals"
   ]
  },
  {
   "cell_type": "code",
   "execution_count": 46,
   "metadata": {},
   "outputs": [
    {
     "data": {
      "text/plain": [
       "61"
      ]
     },
     "execution_count": 46,
     "metadata": {},
     "output_type": "execute_result"
    }
   ],
   "source": [
    "sum(set(minimal_prod_sum(12)))"
   ]
  },
  {
   "cell_type": "code",
   "execution_count": 41,
   "metadata": {},
   "outputs": [
    {
     "data": {
      "text/plain": [
       "3000"
      ]
     },
     "execution_count": 41,
     "metadata": {},
     "output_type": "execute_result"
    }
   ],
   "source": [
    "import sys\n",
    "sys.getrecursionlimit()"
   ]
  },
  {
   "cell_type": "code",
   "execution_count": 45,
   "metadata": {},
   "outputs": [
    {
     "data": {
      "text/plain": [
       "7587457"
      ]
     },
     "execution_count": 45,
     "metadata": {},
     "output_type": "execute_result"
    }
   ],
   "source": [
    "import sys\n",
    "sys.setrecursionlimit(10**5)\n",
    "sum(set(minimal_prod_sum(12000)))"
   ]
  }
 ],
 "metadata": {
  "kernelspec": {
   "display_name": "Python 3",
   "language": "python",
   "name": "python3"
  },
  "language_info": {
   "codemirror_mode": {
    "name": "ipython",
    "version": 3
   },
   "file_extension": ".py",
   "mimetype": "text/x-python",
   "name": "python",
   "nbconvert_exporter": "python",
   "pygments_lexer": "ipython3",
   "version": "3.6.5"
  }
 },
 "nbformat": 4,
 "nbformat_minor": 2
}
