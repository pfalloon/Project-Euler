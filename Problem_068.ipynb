{
 "cells": [
  {
   "cell_type": "markdown",
   "metadata": {},
   "source": [
    "# [Project Euler Problem 68](https://projecteuler.net/problem=68)"
   ]
  },
  {
   "cell_type": "markdown",
   "metadata": {},
   "source": [
    "The 16-digit solutions will have 10 on the outer layer (so it counts once not twice). Then, since we count starting on the lowest digit of the outer layer, the largest solution possible would start with 6 (so that the remaining four numbers are 7,8,9,10 in some order). So we search over all permutations of the 4 remaining digits in the outer layer and the 5 digits in the inner layer."
   ]
  },
  {
   "cell_type": "code",
   "execution_count": 6,
   "metadata": {},
   "outputs": [
    {
     "data": {
      "text/plain": [
       "6531031914842725"
      ]
     },
     "execution_count": 6,
     "metadata": {},
     "output_type": "execute_result"
    }
   ],
   "source": [
    "from itertools import permutations\n",
    "\n",
    "pmax = 0\n",
    "for p in permutations(range(7,11)):\n",
    "    for q in permutations(range(1,6)):\n",
    "        if 6+q[0]+q[1] == p[0]+q[1]+q[2] == p[1]+q[2]+q[3] == p[2]+q[3]+q[4] == p[3]+q[4]+q[0]:\n",
    "            tot = int(''.join([str(d) for d in (6,q[0],q[1],p[0],q[1],q[2],p[1],q[2],q[3],p[2],q[3],q[4],p[3],q[4],q[0])]))\n",
    "            if tot > pmax:\n",
    "                pmax = tot\n",
    "pmax"
   ]
  }
 ],
 "metadata": {
  "kernelspec": {
   "display_name": "Python 3",
   "language": "python",
   "name": "python3"
  },
  "language_info": {
   "codemirror_mode": {
    "name": "ipython",
    "version": 3
   },
   "file_extension": ".py",
   "mimetype": "text/x-python",
   "name": "python",
   "nbconvert_exporter": "python",
   "pygments_lexer": "ipython3",
   "version": "3.6.5"
  }
 },
 "nbformat": 4,
 "nbformat_minor": 2
}
