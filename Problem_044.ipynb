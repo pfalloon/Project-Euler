{
 "cells": [
  {
   "cell_type": "markdown",
   "metadata": {},
   "source": [
    "# [Project Euler Problem 44](https://projecteuler.net/problem=44)\n",
    "\n",
    "Suppose $P_j$ and $P_k$ are the pentagonal numbers satisfying $P_k - P_j = P_d$ and $P_j + P_k = P_s$ where $d$ is minimal. Assume $k = j + n$, and note the identity $P_{a+b} = P_a + P_b + 3ab$. Then we have\n",
    "$$\n",
    "P_d = P_{j+n} - P_j = (P_j + P_n + 3jn) - P_j = P_n + 3jn,\n",
    "$$\n",
    "and hence\n",
    "$$\n",
    "j = \\frac{P_d - P_n}{3n}.\n",
    "$$\n",
    "So for each $d$ we need to check $1 \\leq n < d$ stopping at the first value for which $\\frac{P_d-P_n}{3n} \\equiv j$ is an integer."
   ]
  },
  {
   "cell_type": "code",
   "execution_count": 4,
   "metadata": {},
   "outputs": [],
   "source": [
    "def pentagonal(n):\n",
    "    return n*(3*n-1)//2"
   ]
  },
  {
   "cell_type": "code",
   "execution_count": 5,
   "metadata": {},
   "outputs": [],
   "source": [
    "M = 10**6\n",
    "pentagonal_lu = {*[pentagonal(n) for n in range(1,M+1)]}"
   ]
  },
  {
   "cell_type": "code",
   "execution_count": 17,
   "metadata": {},
   "outputs": [],
   "source": [
    "def find_pentagonal():\n",
    "    for d in range(1, M+1):\n",
    "        pd = pentagonal(d)\n",
    "        for n in range(1, d):\n",
    "            pn = pentagonal(n)\n",
    "            if (pd - pn) % (3*n) == 0:\n",
    "                j = (pd-pn)//(3*n)\n",
    "                pj = pentagonal(j)\n",
    "                k = j + n\n",
    "                pk = pentagonal(k)\n",
    "                if pj + pk in pentagonal_lu:\n",
    "                    return (j,k,d,pd)\n",
    "    return None"
   ]
  },
  {
   "cell_type": "code",
   "execution_count": 18,
   "metadata": {},
   "outputs": [
    {
     "data": {
      "text/plain": [
       "(1020, 2167, 1912, 5482660)"
      ]
     },
     "execution_count": 18,
     "metadata": {},
     "output_type": "execute_result"
    }
   ],
   "source": [
    "find_pentagonal()"
   ]
  }
 ],
 "metadata": {
  "kernelspec": {
   "display_name": "Python 3",
   "language": "python",
   "name": "python3"
  },
  "language_info": {
   "codemirror_mode": {
    "name": "ipython",
    "version": 3
   },
   "file_extension": ".py",
   "mimetype": "text/x-python",
   "name": "python",
   "nbconvert_exporter": "python",
   "pygments_lexer": "ipython3",
   "version": "3.6.5"
  }
 },
 "nbformat": 4,
 "nbformat_minor": 2
}
