{
 "cells": [
  {
   "cell_type": "markdown",
   "metadata": {},
   "source": [
    "# [Project Euler Problem 61](https://projecteuler.net/problem=61)"
   ]
  },
  {
   "cell_type": "code",
   "execution_count": 27,
   "metadata": {},
   "outputs": [],
   "source": [
    "def values_in_range(f, m, M):\n",
    "    res = set()\n",
    "    k = 0\n",
    "    while True:\n",
    "        n = f(k)\n",
    "        if n >= M:\n",
    "            break\n",
    "        elif n >= m:\n",
    "            res.add(n)\n",
    "        k += 1\n",
    "    return res"
   ]
  },
  {
   "cell_type": "code",
   "execution_count": 98,
   "metadata": {},
   "outputs": [],
   "source": [
    "def p3(n): return n*(n+1)//2\n",
    "def p4(n): return n*n\n",
    "def p5(n): return n*(3*n-1)//2\n",
    "def p6(n): return n*(2*n-1)\n",
    "def p7(n): return n*(5*n-3)//2\n",
    "def p8(n): return n*(3*n-2)\n",
    "\n",
    "p_lu = {3:p3, 4:p4, 5:p5, 6:p6, 7:p7, 8:p8}"
   ]
  },
  {
   "cell_type": "code",
   "execution_count": 99,
   "metadata": {},
   "outputs": [],
   "source": [
    "m, M = 1000, 9999\n",
    "start_lu = {}\n",
    "end_lu = {}\n",
    "for d in range(3,9):\n",
    "    for n in values_in_range(p_lu[d], m, M):\n",
    "        ns = str(n)\n",
    "        ds,de = ns[:2], ns[2:]\n",
    "        if ds not in start_lu:\n",
    "            start_lu[ds] = set()\n",
    "        start_lu[ds].add((d,ns))\n",
    "        if de not in end_lu:\n",
    "            end_lu[de] = set()\n",
    "        end_lu[de].add((d,ns))"
   ]
  },
  {
   "cell_type": "code",
   "execution_count": 102,
   "metadata": {},
   "outputs": [],
   "source": [
    "def find_cycle():\n",
    "    for s1 in start_lu:\n",
    "        for v1 in start_lu[s1]:\n",
    "            d1,n1 = v1\n",
    "            s2 = n1[2:]\n",
    "            if d1 != 8 or s2 not in start_lu:\n",
    "                continue\n",
    "            for v2 in start_lu[s2]:\n",
    "                d2,n2 = v2\n",
    "                if d2 == d1:\n",
    "                    continue\n",
    "                s3 = n2[2:]\n",
    "                if s3 not in start_lu:\n",
    "                    continue\n",
    "                for v3 in start_lu[s3]:\n",
    "                    d3,n3 = v3\n",
    "                    if d3 == d1 or d3 == d2:\n",
    "                        continue\n",
    "                    s4 = n3[2:]\n",
    "                    if s4 not in start_lu:\n",
    "                        continue\n",
    "                    for v4 in start_lu[s4]:\n",
    "                        d4,n4 = v4\n",
    "                        if d4 == d1 or d4 == d2 or d4 == d3:\n",
    "                            continue\n",
    "                        s5 = n4[2:]\n",
    "                        if s5 not in start_lu:\n",
    "                            continue\n",
    "                        for v5 in start_lu[s5]:\n",
    "                            d5,n5 = v5\n",
    "                            if d5 == d1 or d5 == d2 or d5 == d3 or d5 == d4:\n",
    "                                continue\n",
    "                            s6 = n5[2:]\n",
    "                            if s6 not in start_lu:\n",
    "                                continue\n",
    "                            for v6 in start_lu[s6]:\n",
    "                                d6,n6 = v6\n",
    "                                if d6 == d1 or d6 == d2 or d6 == d3 or d6 == d4 or d6 == d5:\n",
    "                                    continue\n",
    "                                e6 = n6[2:]\n",
    "                                if e6 == s1:\n",
    "                                    return (v1,v2,v3,v4,v5,v6)\n",
    "    return None"
   ]
  },
  {
   "cell_type": "code",
   "execution_count": 104,
   "metadata": {},
   "outputs": [
    {
     "data": {
      "text/plain": [
       "((8, '1281'), (6, '8128'), (5, '2882'), (3, '8256'), (4, '5625'), (7, '2512'))"
      ]
     },
     "execution_count": 104,
     "metadata": {},
     "output_type": "execute_result"
    }
   ],
   "source": [
    "cycle = find_cycle()\n",
    "cycle"
   ]
  },
  {
   "cell_type": "code",
   "execution_count": 105,
   "metadata": {},
   "outputs": [
    {
     "data": {
      "text/plain": [
       "28684"
      ]
     },
     "execution_count": 105,
     "metadata": {},
     "output_type": "execute_result"
    }
   ],
   "source": [
    "sum(int(v[1]) for v in cycle)"
   ]
  }
 ],
 "metadata": {
  "kernelspec": {
   "display_name": "Python 3",
   "language": "python",
   "name": "python3"
  },
  "language_info": {
   "codemirror_mode": {
    "name": "ipython",
    "version": 3
   },
   "file_extension": ".py",
   "mimetype": "text/x-python",
   "name": "python",
   "nbconvert_exporter": "python",
   "pygments_lexer": "ipython3",
   "version": "3.6.5"
  }
 },
 "nbformat": 4,
 "nbformat_minor": 2
}
