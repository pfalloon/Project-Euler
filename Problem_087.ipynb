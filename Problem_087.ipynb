{
 "cells": [
  {
   "cell_type": "markdown",
   "metadata": {},
   "source": [
    "# [Project Euler Problem 87](https://projecteuler.net/problem=87)"
   ]
  },
  {
   "cell_type": "markdown",
   "metadata": {},
   "source": [
    "Given the size limit of the question, find an upper bound on the primes we need:"
   ]
  },
  {
   "cell_type": "code",
   "execution_count": 4,
   "metadata": {},
   "outputs": [
    {
     "data": {
      "text/plain": [
       "7071.067811865475"
      ]
     },
     "execution_count": 4,
     "metadata": {},
     "output_type": "execute_result"
    }
   ],
   "source": [
    "M = 50*10**6\n",
    "from math import sqrt\n",
    "sqrt(M)"
   ]
  },
  {
   "cell_type": "code",
   "execution_count": 8,
   "metadata": {},
   "outputs": [],
   "source": [
    "P = 7080\n",
    "sieve = [False]*2 + [True]*(P-1)\n",
    "for p in range(2,P+1):\n",
    "    if sieve[p]:\n",
    "        for n in range(2*p, P+1, p):\n",
    "            sieve[n] = False\n",
    "primes = [p for p,tf in enumerate(sieve) if tf]"
   ]
  },
  {
   "cell_type": "code",
   "execution_count": 11,
   "metadata": {},
   "outputs": [
    {
     "data": {
      "text/plain": [
       "1097343"
      ]
     },
     "execution_count": 11,
     "metadata": {},
     "output_type": "execute_result"
    }
   ],
   "source": [
    "lu = set()\n",
    "\n",
    "for p1 in primes:\n",
    "    term1 = p1**2\n",
    "    if term1 > M:\n",
    "        break\n",
    "    for p2 in primes:\n",
    "        term12 = term1 + p2**3\n",
    "        if term12 > M:\n",
    "            break\n",
    "        for p3 in primes:\n",
    "            term123 = term12 + p3**4\n",
    "            if term123 > M:\n",
    "                break\n",
    "            lu.add(term123)\n",
    "len(lu)"
   ]
  }
 ],
 "metadata": {
  "kernelspec": {
   "display_name": "Python 3",
   "language": "python",
   "name": "python3"
  },
  "language_info": {
   "codemirror_mode": {
    "name": "ipython",
    "version": 3
   },
   "file_extension": ".py",
   "mimetype": "text/x-python",
   "name": "python",
   "nbconvert_exporter": "python",
   "pygments_lexer": "ipython3",
   "version": "3.6.5"
  }
 },
 "nbformat": 4,
 "nbformat_minor": 2
}
