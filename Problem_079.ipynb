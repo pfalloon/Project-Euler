{
 "cells": [
  {
   "cell_type": "markdown",
   "metadata": {},
   "source": [
    "# [Project Euler Problem 79](https://projecteuler.net/problem=79)"
   ]
  },
  {
   "cell_type": "code",
   "execution_count": 10,
   "metadata": {},
   "outputs": [],
   "source": [
    "with open('p079_keylog.txt', 'r') as f:\n",
    "    dat = [c.rstrip() for c in f.readlines()]"
   ]
  },
  {
   "cell_type": "code",
   "execution_count": 81,
   "metadata": {},
   "outputs": [],
   "source": [
    "def sort_by_count(vals):\n",
    "    counts = {}\n",
    "    for v in vals:\n",
    "        if v not in counts:\n",
    "            counts[v] = 1\n",
    "        else:\n",
    "            counts[v] += 1\n",
    "    return list(reversed(sorted(counts, key=lambda d: counts[d])))"
   ]
  },
  {
   "cell_type": "code",
   "execution_count": 114,
   "metadata": {},
   "outputs": [],
   "source": [
    "def remove_from_start(seqs, val):\n",
    "    res = seqs.copy()\n",
    "    for k, seq in enumerate(res):\n",
    "        if seq[0] == val:\n",
    "            res[k] = seq[1:]\n",
    "    return [seq for seq in res if len(seq) > 0]"
   ]
  },
  {
   "cell_type": "code",
   "execution_count": 122,
   "metadata": {},
   "outputs": [],
   "source": [
    "def find_shortest(subseqs, lmin, lmax, level=0):\n",
    "    \"\"\"finds the shortest sequence consistent with the given list of subsequences\"\"\"\n",
    "\n",
    "    if not subseqs:\n",
    "        return ''\n",
    "    if lmax == 0:\n",
    "        return None\n",
    "    \n",
    "    rem_lmax = lmax - 1\n",
    "    shortest_res = None\n",
    "    d_vals = sort_by_count([seq[0] for seq in subseqs])\n",
    "    if level==0:\n",
    "        print(f'd values: {d_vals}')\n",
    "    #print(f'level {level}: d values = {d_vals}')\n",
    "    for d in d_vals:\n",
    "        if level==0:\n",
    "            print(f'd={d}')\n",
    "        rem_subseqs = remove_from_start(subseqs, d)\n",
    "        rem_lmin = len(set(''.join(rem_subseqs)))\n",
    "        #print(f'level {level}, d={d}, rem_subseqs={rem_subseqs}, rem_lmin={rem_lmin}')\n",
    "        res = find_shortest(rem_subseqs, rem_lmin, rem_lmax, level+1)\n",
    "        if res is None:\n",
    "            continue\n",
    "        len_res = len(res)\n",
    "        if len_res < rem_lmax:\n",
    "            rem_lmax = len_res\n",
    "            shortest_res = d + res\n",
    "            #print(f'\\tlevel {level}, d = {d}: new shortest res: {shortest_res}')\n",
    "    return shortest_res"
   ]
  },
  {
   "cell_type": "code",
   "execution_count": 123,
   "metadata": {},
   "outputs": [
    {
     "name": "stdout",
     "output_type": "stream",
     "text": [
      "d values: ['7', '3', '6', '1', '2', '8']\n",
      "d=7\n",
      "d=3\n",
      "d=6\n",
      "d=1\n",
      "d=2\n",
      "d=8\n"
     ]
    },
    {
     "data": {
      "text/plain": [
       "'73162890'"
      ]
     },
     "execution_count": 123,
     "metadata": {},
     "output_type": "execute_result"
    }
   ],
   "source": [
    "find_shortest(dat, 0, 100)"
   ]
  }
 ],
 "metadata": {
  "kernelspec": {
   "display_name": "Python 3",
   "language": "python",
   "name": "python3"
  },
  "language_info": {
   "codemirror_mode": {
    "name": "ipython",
    "version": 3
   },
   "file_extension": ".py",
   "mimetype": "text/x-python",
   "name": "python",
   "nbconvert_exporter": "python",
   "pygments_lexer": "ipython3",
   "version": "3.6.5"
  }
 },
 "nbformat": 4,
 "nbformat_minor": 2
}
