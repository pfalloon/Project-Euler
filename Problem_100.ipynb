{
 "cells": [
  {
   "cell_type": "markdown",
   "metadata": {},
   "source": [
    "# [Project Euler Problem 100](https://projecteuler.net/problem=100)"
   ]
  },
  {
   "cell_type": "code",
   "execution_count": null,
   "metadata": {},
   "outputs": [],
   "source": [
    "For this special case I just did some handling:\n",
    "S -- number of blue disks\n",
    "T -- total number of disks\n",
    "(S/T) * (S-1)/(T-1) =1/2\n",
    "2S(S-1)-T(T-1)=0\n",
    "2(S^2-S+1/4-1/4)-(T^2-T+1/4-1/4)=0\n",
    "2(S-1/2)^2-(T-1/2)^2-1/4=0\n",
    "substitute u/2=s-1/2, v/2=t-1/2\n",
    "2u^2/4-v^2/4-1/4=0\n",
    "2u^2-v^2-1=0\n",
    "which is your favorite Pell equation."
   ]
  },
  {
   "cell_type": "markdown",
   "metadata": {},
   "source": [
    "Denote by $b$ the number of blue disks and by $n$ the total number of disks. Then we want to solve $\\frac{b(b-1)}{n(n-1)} = \\frac{1}{2}$, i.e. $2b(b-1) - n(n-1) = 0$. By completing the squares and multiplying through by 4, this can re-arranged into the form $2(2b-1)^2 - (2n-1)^2 - 1 = 0$. Substituting $x = 2n-1$, $y = 2b-1$, we get $x^2 - 2y^2 = -1$. This has the form of a [negative Pell equation](https://en.wikipedia.org/wiki/Pell%27s_equation#The_negative_Pell_equation) with $D=2$, which happens to be solvable using the continued fractions approach that we saw in [Problem 66](https://projecteuler.net/problem=66). (Note that we follow the notation of Problem 66 in using $D$ instead of $n$ as on the Wikipedia page)."
   ]
  },
  {
   "cell_type": "markdown",
   "metadata": {},
   "source": [
    "The question asks for the first solution with $n > M = 10^{12}$, which is equivalent to $x > 2M-1$."
   ]
  },
  {
   "cell_type": "code",
   "execution_count": 2,
   "metadata": {},
   "outputs": [],
   "source": [
    "from math import sqrt\n",
    "from fractions import Fraction\n",
    "\n",
    "def sqrt_convergent(D, n):\n",
    "    a0 = int(sqrt(D))\n",
    "    a,b,c = a0, a0, D - a0**2\n",
    "    if c == 0:\n",
    "        return 0\n",
    "    terms = [0]*(n+1)\n",
    "    terms[0] = a0\n",
    "    for j in range(1,n+1):\n",
    "        a = (a0 + b) // c\n",
    "        b = a*c - b\n",
    "        c = (D-b**2) // c\n",
    "        terms[j] = a\n",
    "    res = Fraction(terms[-1], 1)\n",
    "    for a in terms[-2::-1]:\n",
    "        res = a + 1/res\n",
    "    return res"
   ]
  },
  {
   "cell_type": "code",
   "execution_count": 8,
   "metadata": {},
   "outputs": [],
   "source": [
    "def first_solution_above(D, M):\n",
    "    if D == int(sqrt(D))**2:\n",
    "        return (0,0)\n",
    "    n = 1\n",
    "    while True:\n",
    "        cf = sqrt_convergent(D,n)\n",
    "        x, y = cf.numerator, cf.denominator\n",
    "        if x > M and x**2 - D*y**2 == -1:\n",
    "            return (x,y)\n",
    "        n += 1"
   ]
  },
  {
   "cell_type": "code",
   "execution_count": 22,
   "metadata": {},
   "outputs": [
    {
     "data": {
      "text/plain": [
       "(2140758220993, 1513744654945)"
      ]
     },
     "execution_count": 22,
     "metadata": {},
     "output_type": "execute_result"
    }
   ],
   "source": [
    "x,y = first_solution_above(2, 2*10**12-1)\n",
    "x,y"
   ]
  },
  {
   "cell_type": "code",
   "execution_count": 23,
   "metadata": {},
   "outputs": [
    {
     "data": {
      "text/plain": [
       "True"
      ]
     },
     "execution_count": 23,
     "metadata": {},
     "output_type": "execute_result"
    }
   ],
   "source": [
    "x**2 - 2*y**2 == -1"
   ]
  },
  {
   "cell_type": "code",
   "execution_count": 25,
   "metadata": {},
   "outputs": [
    {
     "data": {
      "text/plain": [
       "(1070379110497, 756872327473)"
      ]
     },
     "execution_count": 25,
     "metadata": {},
     "output_type": "execute_result"
    }
   ],
   "source": [
    "n,b = (x+1)//2, (y+1)//2\n",
    "n,b"
   ]
  }
 ],
 "metadata": {
  "kernelspec": {
   "display_name": "Python 3",
   "language": "python",
   "name": "python3"
  },
  "language_info": {
   "codemirror_mode": {
    "name": "ipython",
    "version": 3
   },
   "file_extension": ".py",
   "mimetype": "text/x-python",
   "name": "python",
   "nbconvert_exporter": "python",
   "pygments_lexer": "ipython3",
   "version": "3.6.5"
  }
 },
 "nbformat": 4,
 "nbformat_minor": 2
}
