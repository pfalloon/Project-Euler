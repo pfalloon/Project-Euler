{
 "cells": [
  {
   "cell_type": "markdown",
   "metadata": {},
   "source": [
    "# [Project Euler Problem 39](https://projecteuler.net/problem=39)"
   ]
  },
  {
   "cell_type": "code",
   "execution_count": 19,
   "metadata": {},
   "outputs": [],
   "source": [
    "M = 1000\n",
    "p_cnts = [0]*(M+1)\n",
    "squares = [n*n for n in range(M)]\n",
    "sqrt_lu  = dict(zip(squares, range(M)))"
   ]
  },
  {
   "cell_type": "code",
   "execution_count": 20,
   "metadata": {},
   "outputs": [
    {
     "name": "stdout",
     "output_type": "stream",
     "text": [
      "20 48 52\n",
      "24 45 51\n",
      "30 40 50\n"
     ]
    }
   ],
   "source": [
    "for i in range(1, M):\n",
    "    for j in range(i, M):\n",
    "        asq, bsq = squares[i], squares[j]\n",
    "        csq = asq + bsq\n",
    "        if csq in sqrt_lu:\n",
    "            p = sqrt_lu[asq] + sqrt_lu[bsq] + sqrt_lu[csq]\n",
    "            if p == 120:\n",
    "                print(sqrt_lu[asq], sqrt_lu[bsq], sqrt_lu[csq])\n",
    "            if p > M:\n",
    "                break\n",
    "            p_cnts[p] += 1"
   ]
  },
  {
   "cell_type": "code",
   "execution_count": 23,
   "metadata": {},
   "outputs": [
    {
     "data": {
      "text/plain": [
       "3"
      ]
     },
     "execution_count": 23,
     "metadata": {},
     "output_type": "execute_result"
    }
   ],
   "source": [
    "p_cnts[120]"
   ]
  },
  {
   "cell_type": "code",
   "execution_count": 24,
   "metadata": {},
   "outputs": [
    {
     "data": {
      "text/plain": [
       "840"
      ]
     },
     "execution_count": 24,
     "metadata": {},
     "output_type": "execute_result"
    }
   ],
   "source": [
    "p_cnts.index(max(p_cnts))"
   ]
  }
 ],
 "metadata": {
  "kernelspec": {
   "display_name": "Python 3",
   "language": "python",
   "name": "python3"
  },
  "language_info": {
   "codemirror_mode": {
    "name": "ipython",
    "version": 3
   },
   "file_extension": ".py",
   "mimetype": "text/x-python",
   "name": "python",
   "nbconvert_exporter": "python",
   "pygments_lexer": "ipython3",
   "version": "3.6.5"
  }
 },
 "nbformat": 4,
 "nbformat_minor": 2
}
