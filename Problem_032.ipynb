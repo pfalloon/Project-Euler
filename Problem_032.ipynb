{
 "cells": [
  {
   "cell_type": "markdown",
   "metadata": {},
   "source": [
    "# [Project Euler Problem 32](https://projecteuler.net/problem=32)"
   ]
  },
  {
   "cell_type": "code",
   "execution_count": 8,
   "metadata": {},
   "outputs": [],
   "source": [
    "def is_pandigital_product(a, b, c):\n",
    "    digits = ''.join(sorted(str(a) + str(b) + str(c)))\n",
    "    return digits == '123456789'"
   ]
  },
  {
   "cell_type": "code",
   "execution_count": 9,
   "metadata": {},
   "outputs": [
    {
     "data": {
      "text/plain": [
       "True"
      ]
     },
     "execution_count": 9,
     "metadata": {},
     "output_type": "execute_result"
    }
   ],
   "source": [
    "is_pandigital_product(39, 186, 7254)"
   ]
  },
  {
   "cell_type": "code",
   "execution_count": 11,
   "metadata": {},
   "outputs": [
    {
     "data": {
      "text/plain": [
       "45228"
      ]
     },
     "execution_count": 11,
     "metadata": {},
     "output_type": "execute_result"
    }
   ],
   "source": [
    "lu = {}\n",
    "# 1 x 4 == 4\n",
    "for a in range(1, 10):\n",
    "    for b in range(1000, 10000):\n",
    "        c = a*b\n",
    "        if c >= 10000:\n",
    "            break\n",
    "        if is_pandigital_product(a, b, c):\n",
    "            lu[c] = True\n",
    "# 2 x 3 == 4\n",
    "for a in range(10, 100):\n",
    "    for b in range(100, 1000):\n",
    "        c = a*b\n",
    "        if c < 1000 or c >= 10000:\n",
    "            break\n",
    "        if is_pandigital_product(a, b, c):\n",
    "            lu[c] = True\n",
    "sum(lu.keys())"
   ]
  }
 ],
 "metadata": {
  "kernelspec": {
   "display_name": "Python 3",
   "language": "python",
   "name": "python3"
  },
  "language_info": {
   "codemirror_mode": {
    "name": "ipython",
    "version": 3
   },
   "file_extension": ".py",
   "mimetype": "text/x-python",
   "name": "python",
   "nbconvert_exporter": "python",
   "pygments_lexer": "ipython3",
   "version": "3.6.5"
  }
 },
 "nbformat": 4,
 "nbformat_minor": 2
}
