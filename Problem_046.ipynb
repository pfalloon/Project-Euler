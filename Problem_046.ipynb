{
 "cells": [
  {
   "cell_type": "markdown",
   "metadata": {},
   "source": [
    "# [Project Euler Problem 46](https://projecteuler.net/problem=46)"
   ]
  },
  {
   "cell_type": "code",
   "execution_count": 1,
   "metadata": {},
   "outputs": [],
   "source": [
    "M = 10**6\n",
    "prime_lu = [False]*2 + [True]*(M-1)\n",
    "for n in range(2, M+1):\n",
    "    if prime_lu[n]:\n",
    "        for k in range(2*n, M+1, n):\n",
    "            prime_lu[k] = False"
   ]
  },
  {
   "cell_type": "code",
   "execution_count": null,
   "metadata": {},
   "outputs": [],
   "source": [
    "for n in range(9, M+1, 2):\n",
    "    for k in range(1, n):\n",
    "        p = n - 2*k**2\n",
    "        if p < 0:\n",
    "            break"
   ]
  },
  {
   "cell_type": "code",
   "execution_count": 11,
   "metadata": {},
   "outputs": [],
   "source": [
    "def is_goldbach(n):\n",
    "    for k in range(1, n):\n",
    "        p = n - 2*k**2\n",
    "        if prime_lu[p]:\n",
    "            return True\n",
    "        if p < 0:\n",
    "            break\n",
    "    return False"
   ]
  },
  {
   "cell_type": "code",
   "execution_count": 12,
   "metadata": {},
   "outputs": [
    {
     "name": "stdout",
     "output_type": "stream",
     "text": [
      "5777\n"
     ]
    }
   ],
   "source": [
    "for n in range(9, M+1, 2):\n",
    "    if not prime_lu[n] and not is_goldbach(n):\n",
    "        print(n)\n",
    "        break"
   ]
  }
 ],
 "metadata": {
  "kernelspec": {
   "display_name": "Python 3",
   "language": "python",
   "name": "python3"
  },
  "language_info": {
   "codemirror_mode": {
    "name": "ipython",
    "version": 3
   },
   "file_extension": ".py",
   "mimetype": "text/x-python",
   "name": "python",
   "nbconvert_exporter": "python",
   "pygments_lexer": "ipython3",
   "version": "3.6.5"
  }
 },
 "nbformat": 4,
 "nbformat_minor": 2
}
