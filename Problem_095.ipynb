{
 "cells": [
  {
   "cell_type": "markdown",
   "metadata": {},
   "source": [
    "# [Project Euler Problem 95](https://projecteuler.net/problem=95)"
   ]
  },
  {
   "cell_type": "code",
   "execution_count": 19,
   "metadata": {},
   "outputs": [],
   "source": [
    "from math import ceil, sqrt\n",
    "\n",
    "def get_divisor_sums(M):\n",
    "    res = [0]*2 + [1]*(M-1)\n",
    "    for d in range(2, M//2+1):\n",
    "        for kd in range(2*d, M+1, d):\n",
    "            res[kd] += d\n",
    "    return res"
   ]
  },
  {
   "cell_type": "code",
   "execution_count": 26,
   "metadata": {},
   "outputs": [],
   "source": [
    "M = 10**6\n",
    "div_sums = get_divisor_sums(M)"
   ]
  },
  {
   "cell_type": "code",
   "execution_count": 33,
   "metadata": {},
   "outputs": [],
   "source": [
    "def get_amicable_chain(n, M):\n",
    "    lu = {n}\n",
    "    np = n\n",
    "    while True:\n",
    "        np = div_sums[np]\n",
    "        if np > M:\n",
    "            return set()\n",
    "        elif np == n:\n",
    "            return lu\n",
    "        elif np in lu:\n",
    "            return set()\n",
    "        else:\n",
    "            lu.add(np)"
   ]
  },
  {
   "cell_type": "code",
   "execution_count": 35,
   "metadata": {},
   "outputs": [
    {
     "data": {
      "text/plain": [
       "(28,\n",
       " {14316,\n",
       "  17716,\n",
       "  19116,\n",
       "  19916,\n",
       "  22744,\n",
       "  22976,\n",
       "  31704,\n",
       "  45946,\n",
       "  47616,\n",
       "  48976,\n",
       "  83328,\n",
       "  97946,\n",
       "  122410,\n",
       "  152990,\n",
       "  177792,\n",
       "  243760,\n",
       "  274924,\n",
       "  275444,\n",
       "  285778,\n",
       "  294896,\n",
       "  295488,\n",
       "  358336,\n",
       "  366556,\n",
       "  376736,\n",
       "  381028,\n",
       "  418904,\n",
       "  589786,\n",
       "  629072})"
      ]
     },
     "execution_count": 35,
     "metadata": {},
     "output_type": "execute_result"
    }
   ],
   "source": [
    "lmax = 0\n",
    "chain_max = None\n",
    "for n in range(2, M+1):\n",
    "    chain = get_amicable_chain(n, M)\n",
    "    if len(chain) > lmax:\n",
    "        chain_max = chain\n",
    "        lmax = len(chain)\n",
    "lmax, chain_max"
   ]
  },
  {
   "cell_type": "code",
   "execution_count": 36,
   "metadata": {},
   "outputs": [
    {
     "data": {
      "text/plain": [
       "14316"
      ]
     },
     "execution_count": 36,
     "metadata": {},
     "output_type": "execute_result"
    }
   ],
   "source": [
    "min(chain_max)"
   ]
  }
 ],
 "metadata": {
  "kernelspec": {
   "display_name": "Python 3",
   "language": "python",
   "name": "python3"
  },
  "language_info": {
   "codemirror_mode": {
    "name": "ipython",
    "version": 3
   },
   "file_extension": ".py",
   "mimetype": "text/x-python",
   "name": "python",
   "nbconvert_exporter": "python",
   "pygments_lexer": "ipython3",
   "version": "3.6.5"
  }
 },
 "nbformat": 4,
 "nbformat_minor": 2
}
