{
 "cells": [
  {
   "cell_type": "markdown",
   "metadata": {},
   "source": [
    "# [Project Euler Problem 66](https://projecteuler.net/problem=66)"
   ]
  },
  {
   "cell_type": "markdown",
   "metadata": {},
   "source": [
    "This problem involves the [Pell equation](http://mathworld.wolfram.com/PellEquation.html), $x^2 - D y^2 = 1$. Attempting to solve by searching for $x$, $y$ is futile since the values are extremely large for some $D$. The trick that's needed is the fact that the minimal solution (which exists for non-square $D$) is found by one of the convergents of the continued fraction for $D$. See Section 7.8 of _An Introduction to the Theory of Numbers (5th Ed)_ by Niven, Zuckermann and Montgomery for details."
   ]
  },
  {
   "cell_type": "code",
   "execution_count": 61,
   "metadata": {},
   "outputs": [],
   "source": [
    "from math import sqrt\n",
    "from fractions import Fraction\n",
    "\n",
    "def sqrt_convergent(D, n):\n",
    "    a0 = int(sqrt(D))\n",
    "    a,b,c = a0, a0, D - a0**2\n",
    "    if c == 0:\n",
    "        return 0\n",
    "    terms = [0]*(n+1)\n",
    "    terms[0] = a0\n",
    "    for j in range(1,n+1):\n",
    "        a = (a0 + b) // c\n",
    "        b = a*c - b\n",
    "        c = (D-b**2) // c\n",
    "        terms[j] = a\n",
    "    res = Fraction(terms[-1], 1)\n",
    "    for a in terms[-2::-1]:\n",
    "        res = a + 1/res\n",
    "    return res"
   ]
  },
  {
   "cell_type": "code",
   "execution_count": 78,
   "metadata": {},
   "outputs": [],
   "source": [
    "def minimal_pell(D):\n",
    "    if D == int(sqrt(D))**2:\n",
    "        return (0,0)\n",
    "    n = 1\n",
    "    while True:\n",
    "        cf = sqrt_convergent(D,n)\n",
    "        x, y = cf.numerator, cf.denominator\n",
    "        if x**2 - D*y**2 == 1:\n",
    "            return (x,y)\n",
    "        n += 1"
   ]
  },
  {
   "cell_type": "code",
   "execution_count": 81,
   "metadata": {},
   "outputs": [
    {
     "data": {
      "text/plain": [
       "(661, 16421658242965910275055840472270471049)"
      ]
     },
     "execution_count": 81,
     "metadata": {},
     "output_type": "execute_result"
    }
   ],
   "source": [
    "Dmax,xmax = -1,0\n",
    "for D in range(1,1001):\n",
    "    x,_ = minimal_pell(D)\n",
    "    if x > xmax:\n",
    "        Dmax,xmax = D,x\n",
    "Dmax,xmax"
   ]
  }
 ],
 "metadata": {
  "kernelspec": {
   "display_name": "Python 3",
   "language": "python",
   "name": "python3"
  },
  "language_info": {
   "codemirror_mode": {
    "name": "ipython",
    "version": 3
   },
   "file_extension": ".py",
   "mimetype": "text/x-python",
   "name": "python",
   "nbconvert_exporter": "python",
   "pygments_lexer": "ipython3",
   "version": "3.6.5"
  }
 },
 "nbformat": 4,
 "nbformat_minor": 2
}
