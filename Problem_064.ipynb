{
 "cells": [
  {
   "cell_type": "markdown",
   "metadata": {},
   "source": [
    "# [Project Euler Problem 64](https://projecteuler.net/problem=64)"
   ]
  },
  {
   "cell_type": "markdown",
   "metadata": {},
   "source": [
    "The recurrence formula used here is taken from Theorem 2.3 of the paper _Period of the Continued Fraction of $\\sqrt{n}$_ by Marius Beceanu, [found online](http://web.math.princeton.edu/mathlab/jr02fall/Periodicity/mariusjp.pdf)."
   ]
  },
  {
   "cell_type": "code",
   "execution_count": 13,
   "metadata": {},
   "outputs": [],
   "source": [
    "from math import sqrt\n",
    "def cf_period(N):\n",
    "    a0 = int(sqrt(N))\n",
    "    a,b,c = a0, a0, N - a0**2\n",
    "    if c == 0:\n",
    "        return 0\n",
    "    n = 0\n",
    "    lu = {(a,b,c) : n}\n",
    "    while True:\n",
    "        n += 1\n",
    "        a = (a0 + b) // c\n",
    "        b = a*c - b\n",
    "        c = (N-b**2) // c\n",
    "        key = (a,b,c)\n",
    "        if key in lu:\n",
    "            return n - lu[key]\n",
    "        lu[key] = n"
   ]
  },
  {
   "cell_type": "code",
   "execution_count": 15,
   "metadata": {},
   "outputs": [
    {
     "data": {
      "text/plain": [
       "4"
      ]
     },
     "execution_count": 15,
     "metadata": {},
     "output_type": "execute_result"
    }
   ],
   "source": [
    "sum([cf_period(n) % 2 for n in range(1, 14)])"
   ]
  },
  {
   "cell_type": "code",
   "execution_count": 16,
   "metadata": {},
   "outputs": [
    {
     "data": {
      "text/plain": [
       "1322"
      ]
     },
     "execution_count": 16,
     "metadata": {},
     "output_type": "execute_result"
    }
   ],
   "source": [
    "sum([cf_period(n) % 2 for n in range(1, 10001)])"
   ]
  }
 ],
 "metadata": {
  "kernelspec": {
   "display_name": "Python 3",
   "language": "python",
   "name": "python3"
  },
  "language_info": {
   "codemirror_mode": {
    "name": "ipython",
    "version": 3
   },
   "file_extension": ".py",
   "mimetype": "text/x-python",
   "name": "python",
   "nbconvert_exporter": "python",
   "pygments_lexer": "ipython3",
   "version": "3.6.5"
  }
 },
 "nbformat": 4,
 "nbformat_minor": 2
}
