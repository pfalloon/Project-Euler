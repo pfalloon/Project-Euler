{
 "cells": [
  {
   "cell_type": "markdown",
   "metadata": {},
   "source": [
    "# [Project Euler Problem 63](https://projecteuler.net/problem=63)"
   ]
  },
  {
   "cell_type": "markdown",
   "metadata": {},
   "source": [
    "If $a^n$ has $n$ digits then $10^{n-1} \\leq a^n < 10^n$. The upper limit implies $a < 10$ while the lower limit implies $a \\geq 10^\\frac{n-1}{n}\\rightarrow10$ As $n\\rightarrow\\infty$. So only $n$ values up to the point at which $10^\\frac{n-1}{n} > 9$ need be considered."
   ]
  },
  {
   "cell_type": "code",
   "execution_count": 6,
   "metadata": {},
   "outputs": [
    {
     "data": {
      "text/plain": [
       "22"
      ]
     },
     "execution_count": 6,
     "metadata": {},
     "output_type": "execute_result"
    }
   ],
   "source": [
    "nmax = 1\n",
    "while True:\n",
    "    if 10**((nmax-1)/nmax) > 9:\n",
    "        break\n",
    "    nmax += 1\n",
    "nmax"
   ]
  },
  {
   "cell_type": "code",
   "execution_count": 7,
   "metadata": {},
   "outputs": [
    {
     "data": {
      "text/plain": [
       "49"
      ]
     },
     "execution_count": 7,
     "metadata": {},
     "output_type": "execute_result"
    }
   ],
   "source": [
    "cnt = 0\n",
    "for a in range(1, 10):\n",
    "    for n in range(1, nmax):\n",
    "        if len(str(a**n)) == n:\n",
    "            cnt += 1\n",
    "cnt"
   ]
  }
 ],
 "metadata": {
  "kernelspec": {
   "display_name": "Python 3",
   "language": "python",
   "name": "python3"
  },
  "language_info": {
   "codemirror_mode": {
    "name": "ipython",
    "version": 3
   },
   "file_extension": ".py",
   "mimetype": "text/x-python",
   "name": "python",
   "nbconvert_exporter": "python",
   "pygments_lexer": "ipython3",
   "version": "3.6.5"
  }
 },
 "nbformat": 4,
 "nbformat_minor": 2
}
